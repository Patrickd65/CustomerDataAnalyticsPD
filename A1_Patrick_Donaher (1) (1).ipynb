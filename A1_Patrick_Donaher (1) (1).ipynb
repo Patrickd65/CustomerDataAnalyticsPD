{
  "nbformat": 4,
  "nbformat_minor": 0,
  "metadata": {
    "colab": {
      "name": "A1 Patrick Donaher.ipynb",
      "provenance": []
    },
    "kernelspec": {
      "name": "python3",
      "display_name": "Python 3"
    },
    "language_info": {
      "name": "python"
    }
  },
  "cells": [
    {
      "cell_type": "markdown",
      "metadata": {
        "id": "WsqFTlwbyhij"
      },
      "source": [
        "#<center> Resume of Patrick Donaher</center>\n",
        "\n",
        "\n",
        "## Contact\n",
        "Email: [patrick.donaher@temple.edu](mailto:patrick.donaher@temple.edu)\n",
        "Website: [Patrick Donaher LinkedIn Profile ](https://www.linkedin.com/in/patrickdonaher/)\n",
        "\n",
        "\n",
        "## Summary\n",
        "My name is Patrick Donaher I am a Senior attending Temple University in Philadelphia, looking to persue a career in technology sales. I have just recently accepted a full-time offer at LinkedIn to join their Business Leadership Program.\n",
        "\n",
        "## Education\n",
        "\n",
        "**BBA, Marketing**   2022\\\n",
        "*Temple University, Philadelphia, PA*\n",
        "\n",
        "\n",
        "\n",
        "---\n",
        "\n",
        "\n",
        "## Work Experience\n",
        "\n",
        "**COMPLETE DOCUMENTS SOLUTIONS, Philadelphia, PA,**   2020–2021\\\n",
        "*Sales Development Intern*\n",
        "\n",
        "- Generate 75 leads per week by calling and educating IT directors on the values of CDS’s tech solutions \n",
        "- Propose 2 Total Cost Contracts a week to businesses regarding their office technology\n",
        "- Performed 4 in-person blitzes per month to spread information regarding office IT solutions to the Philadelphia Proper area, prior to the pandemic\n",
        "\n",
        "---\n",
        "\n",
        "**AFLAC, Philadelphia, PA,**   2019-2020\\\n",
        "*Sales Associate Intern*\n",
        "\n",
        "- Conducted 60-75 cold calls daily on a 5-hour schedule which led to setting 10 appointments with business owners to discuss introducing Aflac policies into their benefits package  \n",
        "- Operated Aflac’s CRM system in order to organize past and current leads\n",
        "- Exceeded Aflac’s fast-start quota by writing over $5,000 of revenue for the company in the first 10 weeks\n",
        "\n",
        "\n",
        "---\n",
        "\n",
        "\n",
        "## Skills\n",
        "\n",
        "**Microsoft Office**  Microsoft Word, Excel, PowerPoint (Expert)\\\n",
        "**Programming**   Python, R, SQL, NoSQL (Begginer) \n",
        "\n",
        "---\n",
        "\n",
        "## Professional Interests\n",
        "\n",
        "Marketing, Sales, Analytics\n",
        "\n",
        "## Personal\n",
        "Big Foodie"
      ]
    },
    {
      "cell_type": "code",
      "metadata": {
        "colab": {
          "base_uri": "https://localhost:8080/"
        },
        "id": "Yr0Z1JnUyl_U",
        "outputId": "d01e0e08-b03c-47b8-b773-25166734f67e"
      },
      "source": [
        "from google.colab import drive \n",
        "drive.mount('drive')"
      ],
      "execution_count": 2,
      "outputs": [
        {
          "output_type": "stream",
          "name": "stdout",
          "text": [
            "Mounted at drive\n"
          ]
        }
      ]
    },
    {
      "cell_type": "code",
      "metadata": {
        "id": "WbVW_7Cgy_eM"
      },
      "source": [
        "import os"
      ],
      "execution_count": 3,
      "outputs": []
    },
    {
      "cell_type": "code",
      "metadata": {
        "colab": {
          "base_uri": "https://localhost:8080/"
        },
        "id": "91H-d3kbzCvU",
        "outputId": "80bba728-d376-4427-abd2-7627a3df1673"
      },
      "source": [
        "os.listdir('drive/MyDrive/MKTG')\n"
      ],
      "execution_count": 15,
      "outputs": [
        {
          "output_type": "execute_result",
          "data": {
            "text/plain": [
              "['A1 Patrick Donaher.ipynb']"
            ]
          },
          "metadata": {},
          "execution_count": 15
        }
      ]
    }
  ]
}