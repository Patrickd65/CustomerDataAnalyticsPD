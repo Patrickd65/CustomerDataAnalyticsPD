{
  "nbformat": 4,
  "nbformat_minor": 0,
  "metadata": {
    "colab": {
      "name": "Copy of A4 F2021 - Visualization.ipynb",
      "provenance": [],
      "collapsed_sections": []
    },
    "kernelspec": {
      "name": "python3",
      "display_name": "Python 3"
    }
  },
  "cells": [
    {
      "cell_type": "markdown",
      "metadata": {
        "id": "yVjwQvGh8KoO"
      },
      "source": [
        "**Rationale** Perhaps the most important medium of communicating data-driven insights is through the construction of effective graphs. This assignment is designed for you to practice making some common types of graphs.\n",
        "\n",
        "[Datasets](https://drive.google.com/open?id=1-oR65kkGk7TIzBtRGXVWhkeU1q7yIc-x&authuser=tul67796%40temple.edu&usp=drive_fs) required\n",
        "\n",
        "1. [Rent the Runway item fit](https://drive.google.com/open?id=15UtPTWFea2YfU51SRrZJDyM4aI0YXVFU&authuser=tul67796%40temple.edu&usp=drive_fs)\n",
        "1. [Orange Telecom customer churn](https://drive.google.com/open?id=15eDf_6pamH9GLA1PNMdOlF4YSYHu_zc8&authuser=tul67796%40temple.edu&usp=drive_fs)"
      ]
    },
    {
      "cell_type": "markdown",
      "metadata": {
        "id": "t_g59ocI8lgs"
      },
      "source": [
        "# 1. (5 points) Bar Plot - Rent the runway dataset\n",
        "\n",
        "For categories with at least 100 observations, plot the proportion of reviews that indicated that the item fits using a bar plot.\n",
        "\n",
        "Answer these questions (see detailed prompt at end of section):\n",
        "\n",
        "1. Which categories fit the best? Which categories fit the worst?\n",
        "1. Does this bar plot confirm or reject your prior expectations? Explain.\n",
        "1. How can you mitigate the fit issues?\n",
        "\n",
        "\n",
        "**Follow each of the steps below**"
      ]
    },
    {
      "cell_type": "code",
      "metadata": {
        "id": "mcmHneGxQJgJ",
        "colab": {
          "base_uri": "https://localhost:8080/"
        },
        "outputId": "185937c9-0d63-4537-bf2f-79479ecc27f8"
      },
      "source": [
        "from google.colab import drive\n",
        "drive.mount('drive')"
      ],
      "execution_count": null,
      "outputs": [
        {
          "output_type": "stream",
          "name": "stdout",
          "text": [
            "Drive already mounted at drive; to attempt to forcibly remount, call drive.mount(\"drive\", force_remount=True).\n"
          ]
        }
      ]
    },
    {
      "cell_type": "code",
      "metadata": {
        "id": "5UMuJC23d80I"
      },
      "source": [
        "# import the libraries you need: (pandas, matplotlib)"
      ],
      "execution_count": null,
      "outputs": []
    },
    {
      "cell_type": "code",
      "metadata": {
        "id": "RpVb_YRPs1V_"
      },
      "source": [
        "# specify the folder in your Google MyDrive containing the datasets for this assignment\n",
        "fpath = 'drive/MyDrive/path/to/your/data/'\n",
        "os.listdir(fpath)"
      ],
      "execution_count": null,
      "outputs": []
    },
    {
      "cell_type": "code",
      "metadata": {
        "id": "fOE3NENSuEb3"
      },
      "source": [
        "# read in file use read_json(fpath + 'rentherunway_final_data.json', lines = True)\n",
        "# call the dataframe: rent\n",
        "\n"
      ],
      "execution_count": null,
      "outputs": []
    },
    {
      "cell_type": "code",
      "metadata": {
        "id": "YsNMxLWHeNx0"
      },
      "source": [
        "# preview the first 5 rows the dataset to get a sense of its contents\n",
        "\n"
      ],
      "execution_count": null,
      "outputs": []
    },
    {
      "cell_type": "markdown",
      "metadata": {
        "id": "MZPMOfFJAO1i"
      },
      "source": [
        "**Double click to edit** \n",
        "\n",
        "Fill in the blanks\n",
        "\n",
        "* In the dataframe `rent`, one row represents the data for one _________________\n",
        "\n",
        "To construct a dataframe that has 1 row = 1 category and summarize the number of rows per category:\n",
        "\n",
        "* Which variable should you groupby? ________________\n",
        "* Which variable can you summarize? ________________\n",
        "* Which summary function should you use? ________________"
      ]
    },
    {
      "cell_type": "code",
      "metadata": {
        "id": "-mOv_wAQuEe8"
      },
      "source": [
        "# execute the groupby to construct the desired dataframe (remember to add .reset_index() to the end of the groupby statement)\n",
        "# call the resulting dataframe (assign to this variable): count100\n",
        "\n"
      ],
      "execution_count": null,
      "outputs": []
    },
    {
      "cell_type": "code",
      "metadata": {
        "id": "-mMBmLcB_l4b"
      },
      "source": [
        "# rename the columns to 'category' and 'obs'\n",
        "\n",
        "\n"
      ],
      "execution_count": null,
      "outputs": []
    },
    {
      "cell_type": "markdown",
      "metadata": {
        "id": "8ypiCXL-esfU"
      },
      "source": [
        "**Double click to edit**\\\n",
        "Fill in the blanks\n",
        "\n",
        "To merge `cat100` and `rent`, we should use ____________ as the left dataframe and ____________ as the right dataframe.\n",
        "\n",
        "We should merge on the variable _____________________\n",
        "\n",
        "We will use an inner merge."
      ]
    },
    {
      "cell_type": "code",
      "metadata": {
        "id": "-tvG0jrP_l63"
      },
      "source": [
        "# merge count100 with the rent, reuse the variable rent by replacing it with the result of the merge\n",
        "\n",
        "\n"
      ],
      "execution_count": null,
      "outputs": []
    },
    {
      "cell_type": "code",
      "metadata": {
        "id": "LpMO5BR6_l9X"
      },
      "source": [
        "# preview rent dataframe to show that there's a new column: \"obs\"\n",
        "\n",
        "\n"
      ],
      "execution_count": null,
      "outputs": []
    },
    {
      "cell_type": "code",
      "metadata": {
        "id": "KsJ85O8gDcQh"
      },
      "source": [
        "# what are the unique values in fit column? select the fit column and use the .unique() method\n",
        "\n"
      ],
      "execution_count": null,
      "outputs": []
    },
    {
      "cell_type": "code",
      "metadata": {
        "id": "xYPF1yMiCYnu"
      },
      "source": [
        "# create a column in rent called 'fit1'\n",
        "\n",
        "# first initialize the fit1 column where all observations in the column are 0's \n",
        "# modify the generic syntax df['column name'] = 0\n",
        "\n",
        "\n",
        "# select the subset of fit1 column where fit column has the value \"fit\"\n",
        "## e.g. select rows where fit column has the value 'fit' and the column 'fit1'\n",
        "## set these rows of the fit1 column = 1 (modify the syntax df.loc[conditions, 'column name'] = 1)\n",
        "\n"
      ],
      "execution_count": null,
      "outputs": []
    },
    {
      "cell_type": "code",
      "metadata": {
        "id": "i3td273tCYqd"
      },
      "source": [
        "# sample 20 random rows of the rent dataframe, make sure the fit1 column corresponds\n",
        "# to the correct rows as indicated by the fit column\n",
        "# (run the code several times if you don't see any rows that indicate item did not fit (fit1 is 0))\n",
        "\n",
        "\n"
      ],
      "execution_count": null,
      "outputs": []
    },
    {
      "cell_type": "code",
      "metadata": {
        "id": "2naC6j5HNtEs"
      },
      "source": [
        "# Create a new dataframe, rent100, that is the subset of rows of rent that come from categories with at least 100 observations\n",
        "# Modify the generic syntax newdf = olddf.loc[condition]\n",
        "\n"
      ],
      "execution_count": null,
      "outputs": []
    },
    {
      "cell_type": "markdown",
      "metadata": {
        "id": "vCNH2vXIOH8Q"
      },
      "source": [
        "**Double click to edit** \n",
        "\n",
        "To construct a dataframe that has 1 row = 1 category and summarize the proportion of rental reviews that indicate the item from that category fits\n",
        "\n",
        "* Which variable should you groupby? ________________\n",
        "* Which variable can you summarize? ________________\n",
        "* Which summary function should you use? ________________"
      ]
    },
    {
      "cell_type": "code",
      "metadata": {
        "id": "Hp9A-D-KN4Jm"
      },
      "source": [
        "# execute the groupby\n",
        "# (remember to add .reset_index() to the end of the groupby statement)\n",
        "# call the resulting dataframe (assign to this variable): fit100 \n",
        "\n",
        "\n"
      ],
      "execution_count": null,
      "outputs": []
    },
    {
      "cell_type": "code",
      "metadata": {
        "id": "JEPO4bFNOmwk"
      },
      "source": [
        "# display the fit100 dataframe, make sure it contains the expected information\n",
        "# e.g. category and proportion of fit\n",
        "\n",
        "\n"
      ],
      "execution_count": null,
      "outputs": []
    },
    {
      "cell_type": "code",
      "metadata": {
        "id": "wPu1WdjDO8uI"
      },
      "source": [
        "# sort this fit100 dataframe from smallest to largest proportion\n",
        "# be sure to specify the inplace = True option to alter the dataframe\n",
        "# we need this step to make the resulting bar plot ordered from shortest \n",
        "# to tallest bar\n",
        "# modify the generic syntax df.sort_values(by = 'sort column name', inplace = True)\n",
        "\n"
      ],
      "execution_count": null,
      "outputs": []
    },
    {
      "cell_type": "code",
      "metadata": {
        "id": "pxKzwDw4PKhS"
      },
      "source": [
        "# display the resulting dataframe again to make sure it is properly sorted\n",
        "\n"
      ],
      "execution_count": null,
      "outputs": []
    },
    {
      "cell_type": "code",
      "metadata": {
        "id": "EGNjRhFgPNfi"
      },
      "source": [
        "# construct the bar plot\n",
        "# make the bar plot easy to read by:\n",
        "# adjust the figure size\n",
        "# x-axis labels degrees\n",
        "# other appearance parameters\n",
        "\n",
        "# MAKE SURE TO LABEL YOUR AXES\n",
        "\n",
        "\n",
        "\n"
      ],
      "execution_count": null,
      "outputs": []
    },
    {
      "cell_type": "markdown",
      "metadata": {
        "id": "eAU2QYmLQxEy"
      },
      "source": [
        "**Double Click to Edit**\n",
        "1. The category that fit best is _______________________.\n",
        "    1. The category that fit worst is _______________________.\n",
        "1. (Explain why the plot makes (or doesn't make) sense. Write at least 4 sentences.)\n",
        "1. Two strategies that can mitigate the fit issues are:\n",
        "    1. (Explain first strategy)\n",
        "    1. (Explain second strategy)"
      ]
    },
    {
      "cell_type": "markdown",
      "metadata": {
        "id": "rnyuRIKAQKDb"
      },
      "source": [
        "# 2. (5 points) Scatter plot - Orange Telecom\n",
        "\n",
        "Create 2 plots: \n",
        "\n",
        "First, construct a scatter plot that visualizes the relationship between the number of calls made and the cost per call paid.\n",
        "\n",
        "Second, construct a scatter plot that visualizes total minutes used and average rate paid per minute, use color to indicate churned customers.\n",
        "\n",
        "Note that customer **churn** is the marketing term for a customer who has defected / ended the business relationship (cancelled their contract).\n",
        "\n",
        "Be sure to:\n",
        "1. **adjust the sizes / colors / transparency** of the points to be visually appealing.\n",
        "1. Label your axes\n",
        "\n",
        "Questions:\n",
        "1. Describe the relationship between number of calls and cost per call.\n",
        "    1. What might explain this relationship?\n",
        "1. Describe any differences in the usage patterns among customers who have churned vs. those who have not?\n",
        "    1. What might cause the(se) difference(s)?\n",
        "\n",
        "**Follow the detailed prompts below**"
      ]
    },
    {
      "cell_type": "code",
      "metadata": {
        "id": "wSshGBf-Xero"
      },
      "source": [
        "# read in your dataset using read_csv(fpath + 'telecom_churn.csv')\n",
        "# call the dataframe orange\n",
        "\n",
        "\n"
      ],
      "execution_count": null,
      "outputs": []
    },
    {
      "cell_type": "code",
      "metadata": {
        "id": "5AhB8AS-S62h"
      },
      "source": [
        "# preview the first 5 rows to get a sense of this data\n",
        "\n",
        "\n"
      ],
      "execution_count": null,
      "outputs": []
    },
    {
      "cell_type": "markdown",
      "metadata": {
        "id": "c2VIULQ2S7Oe"
      },
      "source": [
        "**Double click to edit**\n",
        "Fill in the blank\n",
        "1. Each row represents the data for one _______________________."
      ]
    },
    {
      "cell_type": "code",
      "metadata": {
        "id": "4jnEBcT3TRTk"
      },
      "source": [
        "# create 3 new columns:\n",
        "# 'Total_Minutes': sum of total day, eve, night, and international minutes\n",
        "# 'Total_Charges' sum of total day, eve, night, and international charges\n",
        "# 'Total_Calls' sum of total day, eve, night, and international calls\n",
        "\n",
        "\n",
        "\n",
        "\n"
      ],
      "execution_count": null,
      "outputs": []
    },
    {
      "cell_type": "code",
      "metadata": {
        "id": "JfUwrKTuXmhs"
      },
      "source": [
        "# create 2 additional columns\n",
        "# 'Avg_Rate': the average charge per minute (use columns created above to help you make the new column)\n",
        "# 'Cost_Per_Call': the average charge per call (use columns created above to help you make the new column)\n",
        "\n",
        "\n",
        "\n"
      ],
      "execution_count": null,
      "outputs": []
    },
    {
      "cell_type": "code",
      "metadata": {
        "id": "J5bElqxmT1mq"
      },
      "source": [
        "# Create the first scatter plot\n",
        "# Use the x-axis for number of calls\n",
        "# Use the y-axis for the cost per call\n",
        "# Label both axes\n",
        "# play with plotting parameters (size, alpha, figure size, etc.) to make the plot more appealing\n",
        "# make the figure size 10 x 8\n",
        "\n",
        "\n",
        "\n",
        "\n",
        "\n",
        "\n",
        "\n"
      ],
      "execution_count": null,
      "outputs": []
    },
    {
      "cell_type": "markdown",
      "metadata": {
        "id": "M3ggC0AkT6CG"
      },
      "source": [
        "**Double Click to Edit**\n",
        "\n",
        "Answers\n",
        "\n",
        "1. (Describe the relationship between calls and cost per call)\n",
        "    1. (Reason 1 for why this relatinship may exist)\n",
        "    1. (Reason 2 for why this relationship may exist)"
      ]
    },
    {
      "cell_type": "code",
      "metadata": {
        "id": "f1Osm15zT4OS"
      },
      "source": [
        "## Create the second plot\n",
        "# this figure requires making 2 plots on the same figure: one for churned, one for not \n",
        "# (e.g. select the rows that are churned (or not) and the appropriate column for the x and y values that go into the scatter plot function)\n",
        "# Recall, you can select a subset of a particular column using the syntax: df.loc[conditions, 'column name']\n",
        "# note the condition to select churned (not) customer should be orange.Churn == True (orange.Churn == False)\n",
        "\n",
        "# make the churned group color red\n",
        "# make the not churned group color green\n",
        "\n",
        "# adjust the transparency, dot size, etc. to make the figure appealing\n",
        "# CREATE A LEGEND, make sure the legend is legible\n",
        "# make the figure size 10 x 8\n",
        "\n",
        "\n",
        "\n",
        "\n",
        "\n",
        "\n",
        "\n",
        "\n",
        "\n",
        "\n",
        "\n"
      ],
      "execution_count": null,
      "outputs": []
    },
    {
      "cell_type": "markdown",
      "metadata": {
        "id": "aNOpbiz2bGni"
      },
      "source": [
        "**Double Click to Edit**\n",
        "\n",
        "Answers\n",
        "\n",
        "1. (Describe what kind of customers are especially likely to churn)\n",
        "    1. (State a reason for why this may be the case)"
      ]
    }
  ]
}