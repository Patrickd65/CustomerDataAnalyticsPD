{
  "nbformat": 4,
  "nbformat_minor": 0,
  "metadata": {
    "colab": {
      "name": "Patrick Donaher - A3 F2021 - Yelp Reviews.ipynb",
      "provenance": [],
      "collapsed_sections": []
    },
    "kernelspec": {
      "name": "python3",
      "display_name": "Python 3"
    }
  },
  "cells": [
    {
      "cell_type": "markdown",
      "metadata": {
        "id": "fQCckftPtiho"
      },
      "source": [
        "# Assignment 3 - Working with data\n",
        "\n",
        "**Rationale**. In this assignment, you will practice reading/writing common dataset formats, execute conditional subsetting of data, merge data, and perform groupby summaries. \n",
        "\n",
        "Please comment your code for potential partial credit and to explain to me that you understand what you are doing. As always, feel free to add additional cells.\n",
        "\n",
        "For any questions that requires a **text answer: make sure to type your answers in a text cell.**\n",
        "\n",
        "(Make sure you've ) Save(d) the [datasets](https://drive.google.com/drive/folders/1wpphG0kRidK8W9DT79spBufId8jWCUvC?usp=sharing) in this folder to your Google Drive.\n",
        "\n",
        "1. [Quebec Yelp Reviews](https://drive.google.com/file/d/1pmnps16-kI8VJaIizNXaOFyW0IZs_pZo/view?usp=sharing)\n",
        "1.  [Quebec Business Info](https://drive.google.com/file/d/1eT72WiYI7xXT7wiNfo2w1uhxVC0qIage/view?usp=sharing)\n"
      ]
    },
    {
      "cell_type": "code",
      "metadata": {
        "colab": {
          "base_uri": "https://localhost:8080/"
        },
        "id": "Zd9CMkZK_CzM",
        "outputId": "44e35843-9873-4a9e-b4a5-6cb7a18ddbf9"
      },
      "source": [
        "# first, mount your GDrive\n",
        "from google.colab import drive\n",
        "drive.mount('drive')"
      ],
      "execution_count": 6,
      "outputs": [
        {
          "output_type": "stream",
          "name": "stdout",
          "text": [
            "Mounted at drive\n"
          ]
        }
      ]
    },
    {
      "cell_type": "markdown",
      "metadata": {
        "id": "qzhQQ8p7ukHQ"
      },
      "source": [
        "# Problem 1 (2 points)\n",
        "\n",
        "Read in the Quebec Yelp dataset from your Google Drive. Make sure that there are no \"Unnamed\" columns - if so, you've read in the index_col as a regular column. Make sure that the index corresponds to the row of the dataset using the `.reset_index` method. Convert \"Date\" column to a Pandas datetime format.\n",
        "\n",
        "1. What is the observational unit of this dataset? (What does each row represent?)\n",
        "1. How many rows are in this dataset? columns?\n",
        "1. When was the earliest review written? latest?"
      ]
    },
    {
      "cell_type": "markdown",
      "metadata": {
        "id": "TC-OPIJ4bahe"
      },
      "source": [
        "## Problem 1 Answers (edit this cell)\n",
        "\n",
        "1. Each row represents one **___buisness review______**.\n",
        "1. There are **_____208166____** rows in the dataset\n",
        "    1. There are **__9___** columns in the dataset excluding the index.\n",
        "1. The first review is written on **___2007-01-02______**.\n",
        "    1. The last review is written on **___2019-12-13____**."
      ]
    },
    {
      "cell_type": "code",
      "metadata": {
        "id": "BQaBBKSe_eyv",
        "colab": {
          "base_uri": "https://localhost:8080/"
        },
        "outputId": "8aecfabf-bd33-425a-9431-8d30e8281cd9"
      },
      "source": [
        "# import any necessary libraries here\n",
        "\n",
        "import pandas as pd\n",
        "\n",
        "import os \n",
        "os.listdir('drive/')"
      ],
      "execution_count": 7,
      "outputs": [
        {
          "output_type": "execute_result",
          "data": {
            "text/plain": [
              "['.shortcut-targets-by-id',\n",
              " '.file-revisions-by-id',\n",
              " 'MyDrive',\n",
              " 'Shareddrives',\n",
              " '.Trash-0']"
            ]
          },
          "metadata": {},
          "execution_count": 7
        }
      ]
    },
    {
      "cell_type": "code",
      "metadata": {
        "id": "9NL2eM9K_hSp",
        "colab": {
          "base_uri": "https://localhost:8080/"
        },
        "outputId": "15c0608b-7b38-4e1b-f9ca-f3af4de1c5f0"
      },
      "source": [
        "# First, list the folder containing your data\n",
        "# fpath = 'path/to/your/data'\n",
        "# os.listdir(fpath) \n",
        "# this should return a list containing the quebec_biz \n",
        "# and quebec_yelp_reviews datasets\n",
        "\n",
        "os.listdir('drive/My Drive/Assignment_3/')"
      ],
      "execution_count": null,
      "outputs": [
        {
          "output_type": "execute_result",
          "data": {
            "text/plain": [
              "['quebec_biz.csv', 'quebec_yelp_reviews.csv']"
            ]
          },
          "metadata": {},
          "execution_count": 17
        }
      ]
    },
    {
      "cell_type": "code",
      "metadata": {
        "id": "6biVqdDRABiK"
      },
      "source": [
        "# read in the reviews data\n",
        "# pick a variable name for the reviews dataframe\n",
        "# and set its value by reading in the appropriate dataset\n",
        "# df = pd.read_csv(fpath + 'review_dataset_filename.csv', index_col = 0)\n",
        "# you can call the dataframe something other than df\n",
        "df = pd.read_csv('drive/My Drive/Assignment_3/quebec_yelp_reviews.csv', index_col = 0)\n",
        "\n",
        "\n",
        "\n"
      ],
      "execution_count": 119,
      "outputs": []
    },
    {
      "cell_type": "code",
      "metadata": {
        "id": "iAeNSzxJCdw0",
        "colab": {
          "base_uri": "https://localhost:8080/",
          "height": 204
        },
        "outputId": "1894e636-3bdb-4460-ed17-29e33a4309a0"
      },
      "source": [
        "# preview the dataframe's first 5 rows using the .head() method\n",
        "# what unit of observation does each row represent?\n",
        "df.head()\n",
        "\n"
      ],
      "execution_count": 122,
      "outputs": [
        {
          "output_type": "execute_result",
          "data": {
            "text/html": [
              "<div>\n",
              "<style scoped>\n",
              "    .dataframe tbody tr th:only-of-type {\n",
              "        vertical-align: middle;\n",
              "    }\n",
              "\n",
              "    .dataframe tbody tr th {\n",
              "        vertical-align: top;\n",
              "    }\n",
              "\n",
              "    .dataframe thead th {\n",
              "        text-align: right;\n",
              "    }\n",
              "</style>\n",
              "<table border=\"1\" class=\"dataframe\">\n",
              "  <thead>\n",
              "    <tr style=\"text-align: right;\">\n",
              "      <th></th>\n",
              "      <th>review_id</th>\n",
              "      <th>user_id</th>\n",
              "      <th>business_id</th>\n",
              "      <th>useful</th>\n",
              "      <th>funny</th>\n",
              "      <th>cool</th>\n",
              "      <th>text</th>\n",
              "      <th>date</th>\n",
              "      <th>stars</th>\n",
              "    </tr>\n",
              "  </thead>\n",
              "  <tbody>\n",
              "    <tr>\n",
              "      <th>0</th>\n",
              "      <td>sybVjriZuCEH09zplkcXAw</td>\n",
              "      <td>qkJtn0Rtz_lKlTs5azBkng</td>\n",
              "      <td>tOhRQqiupLyJdBJVQMGOEQ</td>\n",
              "      <td>0</td>\n",
              "      <td>0</td>\n",
              "      <td>0</td>\n",
              "      <td>AMAZING. Simply amazing. Believe all of the hy...</td>\n",
              "      <td>2013-12-29</td>\n",
              "      <td>5</td>\n",
              "    </tr>\n",
              "    <tr>\n",
              "      <th>1</th>\n",
              "      <td>uZ66BJLPMx6mJAY_6bi8vQ</td>\n",
              "      <td>kNL4SpfIdMC8GywGayDEOw</td>\n",
              "      <td>tOhRQqiupLyJdBJVQMGOEQ</td>\n",
              "      <td>0</td>\n",
              "      <td>0</td>\n",
              "      <td>0</td>\n",
              "      <td>Montreal bagels were well worth the experience...</td>\n",
              "      <td>2016-07-14</td>\n",
              "      <td>4</td>\n",
              "    </tr>\n",
              "    <tr>\n",
              "      <th>2</th>\n",
              "      <td>uRPUL-YSYuaJZLQp3Z0QlA</td>\n",
              "      <td>dSeYpzf0JkCeARr_CyCh7A</td>\n",
              "      <td>tOhRQqiupLyJdBJVQMGOEQ</td>\n",
              "      <td>1</td>\n",
              "      <td>2</td>\n",
              "      <td>0</td>\n",
              "      <td>Montreal, what did you do in a previous life t...</td>\n",
              "      <td>2012-06-26</td>\n",
              "      <td>1</td>\n",
              "    </tr>\n",
              "    <tr>\n",
              "      <th>3</th>\n",
              "      <td>AGxEC3EtPW1vZH3v2DnPFA</td>\n",
              "      <td>ZhK2xIa4f73JZfua7IP8vA</td>\n",
              "      <td>tOhRQqiupLyJdBJVQMGOEQ</td>\n",
              "      <td>0</td>\n",
              "      <td>0</td>\n",
              "      <td>1</td>\n",
              "      <td>St-Viateur is better, as bagels and as human b...</td>\n",
              "      <td>2016-02-24</td>\n",
              "      <td>3</td>\n",
              "    </tr>\n",
              "    <tr>\n",
              "      <th>4</th>\n",
              "      <td>7rBHa16cZexmPopeVrGKBw</td>\n",
              "      <td>ClJirlfCI0W0CfpYaWdfEw</td>\n",
              "      <td>tOhRQqiupLyJdBJVQMGOEQ</td>\n",
              "      <td>0</td>\n",
              "      <td>1</td>\n",
              "      <td>1</td>\n",
              "      <td>The bagels are good but first they had me writ...</td>\n",
              "      <td>2015-05-26</td>\n",
              "      <td>2</td>\n",
              "    </tr>\n",
              "  </tbody>\n",
              "</table>\n",
              "</div>"
            ],
            "text/plain": [
              "                review_id                 user_id  ...        date  stars\n",
              "0  sybVjriZuCEH09zplkcXAw  qkJtn0Rtz_lKlTs5azBkng  ...  2013-12-29      5\n",
              "1  uZ66BJLPMx6mJAY_6bi8vQ  kNL4SpfIdMC8GywGayDEOw  ...  2016-07-14      4\n",
              "2  uRPUL-YSYuaJZLQp3Z0QlA  dSeYpzf0JkCeARr_CyCh7A  ...  2012-06-26      1\n",
              "3  AGxEC3EtPW1vZH3v2DnPFA  ZhK2xIa4f73JZfua7IP8vA  ...  2016-02-24      3\n",
              "4  7rBHa16cZexmPopeVrGKBw  ClJirlfCI0W0CfpYaWdfEw  ...  2015-05-26      2\n",
              "\n",
              "[5 rows x 9 columns]"
            ]
          },
          "metadata": {},
          "execution_count": 122
        }
      ]
    },
    {
      "cell_type": "code",
      "metadata": {
        "id": "urLjFro_CJWB",
        "colab": {
          "base_uri": "https://localhost:8080/"
        },
        "outputId": "51fcef15-53af-4b93-d6aa-364404e9e807"
      },
      "source": [
        "# compute the shape of the dataset to return (rows, columns)\n",
        "# use the .shape method\n",
        "df.shape\n"
      ],
      "execution_count": null,
      "outputs": [
        {
          "output_type": "execute_result",
          "data": {
            "text/plain": [
              "(208166, 9)"
            ]
          },
          "metadata": {},
          "execution_count": 31
        }
      ]
    },
    {
      "cell_type": "code",
      "metadata": {
        "id": "BDFGrOypB9zw",
        "colab": {
          "base_uri": "https://localhost:8080/"
        },
        "outputId": "d7ef8479-c240-4b36-f219-a0185fa456bd"
      },
      "source": [
        "# take a look at the column names by accessing the dataframe's column attribute, \n",
        "# e.g. df.columns.values (but replace df with the name you picked)\n",
        "df.columns.values\n",
        "\n"
      ],
      "execution_count": null,
      "outputs": [
        {
          "output_type": "execute_result",
          "data": {
            "text/plain": [
              "array(['review_id', 'user_id', 'business_id', 'useful', 'funny', 'cool',\n",
              "       'text', 'date', 'stars'], dtype=object)"
            ]
          },
          "metadata": {},
          "execution_count": 32
        }
      ]
    },
    {
      "cell_type": "code",
      "metadata": {
        "id": "KfAtvXVtCHnk",
        "colab": {
          "base_uri": "https://localhost:8080/"
        },
        "outputId": "05460525-f995-4aa4-e63a-bcf9928d1e43"
      },
      "source": [
        "# find the date column above, convert the column to pandas datetime series\n",
        "# using the pd.to_datetime(....) function\n",
        "df['date'] = pd.to_datetime(df.date)\n",
        "df.date.dtype\n",
        "\n",
        "\n"
      ],
      "execution_count": 142,
      "outputs": [
        {
          "output_type": "execute_result",
          "data": {
            "text/plain": [
              "dtype('<M8[ns]')"
            ]
          },
          "metadata": {},
          "execution_count": 142
        }
      ]
    },
    {
      "cell_type": "code",
      "metadata": {
        "id": "wGI0r7VvCpDB",
        "colab": {
          "base_uri": "https://localhost:8080/"
        },
        "outputId": "d1065b9a-5f91-4880-b435-7dea513deaca"
      },
      "source": [
        "# find the smallest date (use the .min method)\n",
        "df.date.min()\n",
        "\n",
        "\n"
      ],
      "execution_count": 168,
      "outputs": [
        {
          "output_type": "execute_result",
          "data": {
            "text/plain": [
              "Timestamp('2007-01-02 00:00:00')"
            ]
          },
          "metadata": {},
          "execution_count": 168
        }
      ]
    },
    {
      "cell_type": "code",
      "metadata": {
        "id": "ANUiN-5WC7lK",
        "colab": {
          "base_uri": "https://localhost:8080/"
        },
        "outputId": "64e8993b-b993-46d0-8994-a2e672a0007a"
      },
      "source": [
        "# find the largest date (use the .max method)\n",
        "df.date.max()\n",
        "\n",
        "\n"
      ],
      "execution_count": 170,
      "outputs": [
        {
          "output_type": "execute_result",
          "data": {
            "text/plain": [
              "Timestamp('2019-12-13 00:00:00')"
            ]
          },
          "metadata": {},
          "execution_count": 170
        }
      ]
    },
    {
      "cell_type": "markdown",
      "metadata": {
        "id": "Vm0lyRZHu5hl"
      },
      "source": [
        "# Problem 2 (2 points)\n",
        "\n",
        "Construct a **new** dataframe by selecting only the reviews written 1) on or after May 1st 2016 **and** 2) before June 1st 2019. **Save it** to an appropriate location on your Google Drive. (feel free to delete it later)"
      ]
    },
    {
      "cell_type": "code",
      "metadata": {
        "id": "1bx6Gw-sv6Ht",
        "colab": {
          "base_uri": "https://localhost:8080/"
        },
        "outputId": "62683873-1e2a-4452-ab82-f7c47897c2ca"
      },
      "source": [
        "# pick a variable name and set it equal to the approriate subset of your dataframe\n",
        "# (you can use the same variable name as the original dataframe)\n",
        "# remember to select the dates with 2 conditions:\n",
        "# >= '2016/5/1'\n",
        "# < '2019/6/1'\n",
        "\n",
        "#df = pd.read_csv('drive/My Drive/Assignment_3/quebec_yelp_reviews.csv', index_col = 0)\n",
        "df2 = df[(pd.to_datetime(df['date']) >= pd.to_datetime('2016-5-1')) & (pd.to_datetime(df['date']) < pd.to_datetime('2019-6-1'))]\n",
        "df2.date\n",
        "#df2.to_csv('drive/My Drive/Assignment_3/')\n",
        "\n",
        "\n",
        "\n"
      ],
      "execution_count": 61,
      "outputs": [
        {
          "output_type": "execute_result",
          "data": {
            "text/plain": [
              "1         2016-07-14\n",
              "7         2016-09-19\n",
              "10        2018-09-03\n",
              "11        2017-05-26\n",
              "13        2017-06-17\n",
              "             ...    \n",
              "208157    2019-01-23\n",
              "208160    2018-02-08\n",
              "208161    2018-01-14\n",
              "208163    2017-08-19\n",
              "208165    2019-05-05\n",
              "Name: date, Length: 98372, dtype: object"
            ]
          },
          "metadata": {},
          "execution_count": 61
        }
      ]
    },
    {
      "cell_type": "code",
      "metadata": {
        "id": "sr4ftepzF-zq",
        "colab": {
          "base_uri": "https://localhost:8080/",
          "height": 35
        },
        "outputId": "9dccde99-bde1-48f0-e3d6-795fb1ff7928"
      },
      "source": [
        "# check the minimum and maximum dates of the resulting dataframe to confirm you've done this correctly\n",
        "# min date\n",
        "df2.date.min()\n",
        "\n",
        "\n"
      ],
      "execution_count": 54,
      "outputs": [
        {
          "output_type": "execute_result",
          "data": {
            "application/vnd.google.colaboratory.intrinsic+json": {
              "type": "string"
            },
            "text/plain": [
              "'2016-05-01'"
            ]
          },
          "metadata": {},
          "execution_count": 54
        }
      ]
    },
    {
      "cell_type": "code",
      "metadata": {
        "id": "JtT_0l7h2wpU",
        "colab": {
          "base_uri": "https://localhost:8080/",
          "height": 35
        },
        "outputId": "18cadad7-e88c-4cce-e961-b23764434360"
      },
      "source": [
        "# max date\n",
        "df2.date.max()\n",
        "\n",
        "\n"
      ],
      "execution_count": 55,
      "outputs": [
        {
          "output_type": "execute_result",
          "data": {
            "application/vnd.google.colaboratory.intrinsic+json": {
              "type": "string"
            },
            "text/plain": [
              "'2018-12-31'"
            ]
          },
          "metadata": {},
          "execution_count": 55
        }
      ]
    },
    {
      "cell_type": "code",
      "metadata": {
        "id": "o9rJC3Uuv4Hz"
      },
      "source": [
        "# save the dataset somewhere, give it a meaningful file name\n",
        "df2.to_csv('drive/My Drive/Assignment_3/problem2Data.csv')\n",
        "\n",
        "\n"
      ],
      "execution_count": 67,
      "outputs": []
    },
    {
      "cell_type": "markdown",
      "metadata": {
        "id": "7hdqtvZG2WyH"
      },
      "source": [
        "# Problem 3 (3 points)\n",
        "\n",
        "**Use the dataset created in problem 2**\n",
        "\n",
        "Create a new column `ym` that represents the year and month (drops date and time from dates).\\\n",
        "*Hint use `.dt.to_period` method from [notes](https://colab.research.google.com/drive/1RKy2g2aWOitE2rCQdZli8ERKdrtqU6Cl?usp=sharing).\n",
        "\n",
        "Next, construct a line plot of the average usefulness votes (y-axis) by month between 2016/5 and 2019/5 `ym` (x-axis).\\\n",
        "*Hint - you need to do a groupby plot grouping on `ym` and compute the mean of star ratings.\n",
        "\n",
        "### Use a text cell to answer:\n",
        "1. What seasonal patterns do you see in the average helpfulness votes per review in Quebec? \n",
        "\n",
        "1. Come up with 2 potential explanations for the pattern(s) you've noticed.\n"
      ]
    },
    {
      "cell_type": "markdown",
      "metadata": {
        "id": "4TSxTwNO9SLh"
      },
      "source": [
        "## Problem 3 Answer (edit this cell)\n",
        "1. It seems that as the season transitions from summer towards wither the ratings decrease. After winter towards the summer, the ratings increase.\n",
        "1. During the winter the weather is more uncomfortable and harsh thus it is more difficult and expensive for buisnesses to regulate the tempurature in their establishments, thus leading to more unhappy customers.\n",
        "Length of day relative to daylight has been shown to directly coralate to peoples happiness, therefore people are more likly to give positve reviews when happier in the summer and less positive reviews when less happy in the winter."
      ]
    },
    {
      "cell_type": "code",
      "metadata": {
        "id": "Eh-DajsdG7Iq",
        "colab": {
          "base_uri": "https://localhost:8080/",
          "height": 410
        },
        "outputId": "c3f5b708-e3b0-45a6-9327-2c31da4db7a0"
      },
      "source": [
        "# create the plot using a groupby summary + .plot method\n",
        "# refer to notes for examples\n",
        "df2['ym'] = pd.to_datetime(df2.date).dt.to_period('M')\n",
        "df2.groupby(['ym'])['stars'].mean().plot()\n",
        "\n"
      ],
      "execution_count": 118,
      "outputs": [
        {
          "output_type": "stream",
          "name": "stderr",
          "text": [
            "/usr/local/lib/python3.7/dist-packages/ipykernel_launcher.py:3: SettingWithCopyWarning: \n",
            "A value is trying to be set on a copy of a slice from a DataFrame.\n",
            "Try using .loc[row_indexer,col_indexer] = value instead\n",
            "\n",
            "See the caveats in the documentation: https://pandas.pydata.org/pandas-docs/stable/user_guide/indexing.html#returning-a-view-versus-a-copy\n",
            "  This is separate from the ipykernel package so we can avoid doing imports until\n"
          ]
        },
        {
          "output_type": "execute_result",
          "data": {
            "text/plain": [
              "<matplotlib.axes._subplots.AxesSubplot at 0x7f0221727650>"
            ]
          },
          "metadata": {},
          "execution_count": 118
        },
        {
          "output_type": "display_data",
          "data": {
            "image/png": "[encoded data removed]",
            "text/plain": [
              "<Figure size 432x288 with 1 Axes>"
            ]
          },
          "metadata": {
            "needs_background": "light"
          }
        }
      ]
    },
    {
      "cell_type": "code",
      "metadata": {
        "id": "NFJnyNscd2y4",
        "colab": {
          "base_uri": "https://localhost:8080/"
        },
        "outputId": "4ae9132f-a9b4-4416-e528-8bfb86b0f090"
      },
      "source": [
        "# check that you've created it correctly by finding the unique values of ym\n",
        "# select the ym column and use the .unique() method\n",
        "df2.ym.unique()\n",
        "\n",
        "\n",
        "\n"
      ],
      "execution_count": 99,
      "outputs": [
        {
          "output_type": "execute_result",
          "data": {
            "text/plain": [
              "<PeriodArray>\n",
              "['2016-07', '2016-09', '2018-09', '2017-05', '2017-06', '2017-07', '2016-05',\n",
              " '2018-08', '2017-08', '2017-10', '2016-10', '2018-07', '2016-08', '2016-06',\n",
              " '2017-04', '2017-01', '2018-06', '2018-02', '2018-05', '2017-09', '2018-04',\n",
              " '2018-03', '2016-12', '2016-11', '2017-02', '2017-11', '2017-03', '2018-01',\n",
              " '2018-10', '2017-12', '2019-01', '2018-12', '2018-11', '2019-04', '2019-03',\n",
              " '2019-02', '2019-05']\n",
              "Length: 37, dtype: period[M]"
            ]
          },
          "metadata": {},
          "execution_count": 99
        }
      ]
    },
    {
      "cell_type": "code",
      "metadata": {
        "id": "WSuD6uNH2SM-",
        "colab": {
          "base_uri": "https://localhost:8080/"
        },
        "outputId": "4a78eef9-cdaf-4bc0-c7e2-92edace9f455"
      },
      "source": [
        "# create 'ym' column\n",
        "df2['ym'] = pd.to_datetime(df2.date).dt.to_period('M')\n",
        "df2.ym\n",
        "\n",
        "\n"
      ],
      "execution_count": 80,
      "outputs": [
        {
          "output_type": "stream",
          "name": "stderr",
          "text": [
            "/usr/local/lib/python3.7/dist-packages/ipykernel_launcher.py:2: SettingWithCopyWarning: \n",
            "A value is trying to be set on a copy of a slice from a DataFrame.\n",
            "Try using .loc[row_indexer,col_indexer] = value instead\n",
            "\n",
            "See the caveats in the documentation: https://pandas.pydata.org/pandas-docs/stable/user_guide/indexing.html#returning-a-view-versus-a-copy\n",
            "  \n"
          ]
        },
        {
          "output_type": "execute_result",
          "data": {
            "text/plain": [
              "1         2016-07\n",
              "7         2016-09\n",
              "10        2018-09\n",
              "11        2017-05\n",
              "13        2017-06\n",
              "           ...   \n",
              "208157    2019-01\n",
              "208160    2018-02\n",
              "208161    2018-01\n",
              "208163    2017-08\n",
              "208165    2019-05\n",
              "Name: ym, Length: 98372, dtype: period[M]"
            ]
          },
          "metadata": {},
          "execution_count": 80
        }
      ]
    },
    {
      "cell_type": "markdown",
      "metadata": {
        "id": "OIrDmJDL2gfG"
      },
      "source": [
        "# Probelm 4 (4 points)\n",
        "\n",
        "Read in the Quebec **business info** dataset, be sure to use a different variable name for this dataframe.\n",
        "\n",
        "## Part A questions (2 pts)\n",
        "1. What is the observational unit of this dataset?\n",
        "1. On what variable should you merge this (right dataframe) **into** the review data (left dataframe)? \n",
        "\n",
        "**Merge business data into the dataframe from Q2.**\n",
        "\n",
        "Notice a column called \"is_open\" - if a business has shut down, this column will have a value of 0, otherwise it will have a value of 1.\n",
        "\n",
        "Construct the line plot where: \n",
        "* x-axis is `ym` \n",
        "* y-axis is average star rating \n",
        "* there are 2 lines: 1. for currently open businesses and 2. closed businesses \n",
        "    * Make sure the 2 lines appear on the same figure.\n",
        "    * You should compute avg. star rating using the `star` variable, not the `biz_star` variable.\n",
        "\n",
        "## Part B questions (2 pts)\n",
        "1. Any difference in patterns between these 2 groups of businesses?\n",
        "1. Speculate on what reason(s) might cause the observed pattern(s).\n",
        "\n"
      ]
    },
    {
      "cell_type": "markdown",
      "metadata": {
        "id": "X3OAH7PsW91-"
      },
      "source": [
        "## Problem 4 Answers (Edit this cell)\n",
        "\n",
        "### Part A\n",
        "\n",
        "1. Each row represents one **____buisness_____**\n",
        "1. We should merge on **___buisnes_id______**\n",
        "\n",
        "### Part B\n",
        "\n",
        "1. (Describe any difference in patterns between currently open and shut down businesses)\n",
        "The ratings of the closed buisness are on average lower and fluctuate more often between months.\n",
        "1. 2 possible reasons are:\n",
        "    1. Buisness that make less money will stretch resources to make ends meet making the quality of their service inconsistent, thus leading to a wider range of reviews.\n",
        "    1. Bad buisnesses that cloase will have more bad service. Since people react more strongly to negative emotion than positive emotions, they will be more likely to leave the harshest lowest review. Thus, when the people who are more disproportionally likley leave a review experience bad service they will drop a low sqewing result."
      ]
    },
    {
      "cell_type": "code",
      "metadata": {
        "id": "2hfMBmjaB574"
      },
      "source": [
        "# read in the business info file, call the dataframe biz, e.g. biz = pd.read_csv(...)\n",
        "biz = pd.read_csv('drive/My Drive/Assignment_3/quebec_biz.csv', index_col = 0)\n",
        "\n"
      ],
      "execution_count": 113,
      "outputs": []
    },
    {
      "cell_type": "code",
      "metadata": {
        "id": "_64Zf-KitgLl",
        "colab": {
          "base_uri": "https://localhost:8080/",
          "height": 289
        },
        "outputId": "c83595bd-482d-42f4-c620-5b465de2d9b4"
      },
      "source": [
        "# Take a look at the first few rows to determine the observational unit\n",
        "biz.head()\n",
        "#the observational unit is buisness_id\n"
      ],
      "execution_count": 102,
      "outputs": [
        {
          "output_type": "execute_result",
          "data": {
            "text/html": [
              "<div>\n",
              "<style scoped>\n",
              "    .dataframe tbody tr th:only-of-type {\n",
              "        vertical-align: middle;\n",
              "    }\n",
              "\n",
              "    .dataframe tbody tr th {\n",
              "        vertical-align: top;\n",
              "    }\n",
              "\n",
              "    .dataframe thead th {\n",
              "        text-align: right;\n",
              "    }\n",
              "</style>\n",
              "<table border=\"1\" class=\"dataframe\">\n",
              "  <thead>\n",
              "    <tr style=\"text-align: right;\">\n",
              "      <th></th>\n",
              "      <th>business_id</th>\n",
              "      <th>name</th>\n",
              "      <th>address</th>\n",
              "      <th>city</th>\n",
              "      <th>state</th>\n",
              "      <th>postal_code</th>\n",
              "      <th>latitude</th>\n",
              "      <th>longitude</th>\n",
              "      <th>biz_stars</th>\n",
              "      <th>review_count</th>\n",
              "      <th>is_open</th>\n",
              "      <th>attributes</th>\n",
              "      <th>categories</th>\n",
              "      <th>hours</th>\n",
              "    </tr>\n",
              "  </thead>\n",
              "  <tbody>\n",
              "    <tr>\n",
              "      <th>2</th>\n",
              "      <td>XNoUzKckATkOD1hP6vghZg</td>\n",
              "      <td>Felinus</td>\n",
              "      <td>3554 Rue Notre-Dame O</td>\n",
              "      <td>Montreal</td>\n",
              "      <td>QC</td>\n",
              "      <td>H4C 1P4</td>\n",
              "      <td>45.479984</td>\n",
              "      <td>-73.580070</td>\n",
              "      <td>5.0</td>\n",
              "      <td>5</td>\n",
              "      <td>1</td>\n",
              "      <td>NaN</td>\n",
              "      <td>Pets, Pet Services, Pet Groomers</td>\n",
              "      <td>NaN</td>\n",
              "    </tr>\n",
              "    <tr>\n",
              "      <th>31</th>\n",
              "      <td>pcaQDBM6r0PWTXfYZK6RdA</td>\n",
              "      <td>IGA Extra</td>\n",
              "      <td>8130 Boulevard Champlain</td>\n",
              "      <td>Lasalle</td>\n",
              "      <td>QC</td>\n",
              "      <td>H8P 1B4</td>\n",
              "      <td>45.425645</td>\n",
              "      <td>-73.611934</td>\n",
              "      <td>3.0</td>\n",
              "      <td>6</td>\n",
              "      <td>1</td>\n",
              "      <td>{'BusinessParking': \"{'garage': False, 'street...</td>\n",
              "      <td>Food, Grocery</td>\n",
              "      <td>{'Monday': '8:0-22:0', 'Tuesday': '8:0-22:0', ...</td>\n",
              "    </tr>\n",
              "    <tr>\n",
              "      <th>43</th>\n",
              "      <td>LoRef3ChgZKbxUio-sHgQg</td>\n",
              "      <td>Amir</td>\n",
              "      <td>5252 Rue Jean Talon O</td>\n",
              "      <td>Montréal</td>\n",
              "      <td>QC</td>\n",
              "      <td>H4P 2A7</td>\n",
              "      <td>45.494870</td>\n",
              "      <td>-73.651904</td>\n",
              "      <td>3.0</td>\n",
              "      <td>18</td>\n",
              "      <td>1</td>\n",
              "      <td>{'RestaurantsAttire': \"u'casual'\", 'Restaurant...</td>\n",
              "      <td>Restaurants, Lebanese, Middle Eastern</td>\n",
              "      <td>NaN</td>\n",
              "    </tr>\n",
              "    <tr>\n",
              "      <th>45</th>\n",
              "      <td>_xOeoXfPUQTNlUAhXl32ug</td>\n",
              "      <td>Starbucks</td>\n",
              "      <td>150 Boulevard Crémazie E</td>\n",
              "      <td>Montréal</td>\n",
              "      <td>QC</td>\n",
              "      <td>H2P 1E2</td>\n",
              "      <td>45.542993</td>\n",
              "      <td>-73.640218</td>\n",
              "      <td>3.5</td>\n",
              "      <td>4</td>\n",
              "      <td>1</td>\n",
              "      <td>{'RestaurantsTakeOut': 'True', 'RestaurantsPri...</td>\n",
              "      <td>Coffee &amp; Tea, Food</td>\n",
              "      <td>{'Monday': '5:30-23:0', 'Tuesday': '5:30-23:0'...</td>\n",
              "    </tr>\n",
              "    <tr>\n",
              "      <th>57</th>\n",
              "      <td>3BfGGIJn8lxvu1k3ZZnL1w</td>\n",
              "      <td>Théâtre Corona</td>\n",
              "      <td>2490 Rue Notre-Dame O</td>\n",
              "      <td>Montréal</td>\n",
              "      <td>QC</td>\n",
              "      <td>H3J 1N5</td>\n",
              "      <td>45.482777</td>\n",
              "      <td>-73.575006</td>\n",
              "      <td>4.0</td>\n",
              "      <td>18</td>\n",
              "      <td>1</td>\n",
              "      <td>{'OutdoorSeating': 'False', 'RestaurantsPriceR...</td>\n",
              "      <td>Nightlife, Arts &amp; Entertainment, Performing Ar...</td>\n",
              "      <td>NaN</td>\n",
              "    </tr>\n",
              "  </tbody>\n",
              "</table>\n",
              "</div>"
            ],
            "text/plain": [
              "               business_id  ...                                              hours\n",
              "2   XNoUzKckATkOD1hP6vghZg  ...                                                NaN\n",
              "31  pcaQDBM6r0PWTXfYZK6RdA  ...  {'Monday': '8:0-22:0', 'Tuesday': '8:0-22:0', ...\n",
              "43  LoRef3ChgZKbxUio-sHgQg  ...                                                NaN\n",
              "45  _xOeoXfPUQTNlUAhXl32ug  ...  {'Monday': '5:30-23:0', 'Tuesday': '5:30-23:0'...\n",
              "57  3BfGGIJn8lxvu1k3ZZnL1w  ...                                                NaN\n",
              "\n",
              "[5 rows x 14 columns]"
            ]
          },
          "metadata": {},
          "execution_count": 102
        }
      ]
    },
    {
      "cell_type": "code",
      "metadata": {
        "id": "hlLltBeJtlrH",
        "colab": {
          "base_uri": "https://localhost:8080/",
          "height": 1000
        },
        "outputId": "77548555-711f-4bc3-a7b6-13f57969d8ee"
      },
      "source": [
        "# merge the 2 datasets\n",
        "mergedDF = biz.merge(df2, how = 'right', on = 'business_id')\n",
        "mergedDF\n"
      ],
      "execution_count": 108,
      "outputs": [
        {
          "output_type": "stream",
          "name": "stdout",
          "text": [
            "24\n"
          ]
        },
        {
          "output_type": "execute_result",
          "data": {
            "text/html": [
              "<div>\n",
              "<style scoped>\n",
              "    .dataframe tbody tr th:only-of-type {\n",
              "        vertical-align: middle;\n",
              "    }\n",
              "\n",
              "    .dataframe tbody tr th {\n",
              "        vertical-align: top;\n",
              "    }\n",
              "\n",
              "    .dataframe thead th {\n",
              "        text-align: right;\n",
              "    }\n",
              "</style>\n",
              "<table border=\"1\" class=\"dataframe\">\n",
              "  <thead>\n",
              "    <tr style=\"text-align: right;\">\n",
              "      <th></th>\n",
              "      <th>business_id</th>\n",
              "      <th>name</th>\n",
              "      <th>address</th>\n",
              "      <th>city</th>\n",
              "      <th>state</th>\n",
              "      <th>postal_code</th>\n",
              "      <th>latitude</th>\n",
              "      <th>longitude</th>\n",
              "      <th>biz_stars</th>\n",
              "      <th>review_count</th>\n",
              "      <th>is_open</th>\n",
              "      <th>attributes</th>\n",
              "      <th>categories</th>\n",
              "      <th>hours</th>\n",
              "      <th>review_id</th>\n",
              "      <th>user_id</th>\n",
              "      <th>useful</th>\n",
              "      <th>funny</th>\n",
              "      <th>cool</th>\n",
              "      <th>text</th>\n",
              "      <th>date</th>\n",
              "      <th>stars</th>\n",
              "      <th>ym</th>\n",
              "    </tr>\n",
              "  </thead>\n",
              "  <tbody>\n",
              "    <tr>\n",
              "      <th>0</th>\n",
              "      <td>tOhRQqiupLyJdBJVQMGOEQ</td>\n",
              "      <td>Fairmount Bagel</td>\n",
              "      <td>74 Avenue Fairmount O</td>\n",
              "      <td>Montréal</td>\n",
              "      <td>QC</td>\n",
              "      <td>H2T 2M2</td>\n",
              "      <td>45.522908</td>\n",
              "      <td>-73.595277</td>\n",
              "      <td>4.0</td>\n",
              "      <td>645</td>\n",
              "      <td>1</td>\n",
              "      <td>{'BusinessParking': \"{'garage': False, 'street...</td>\n",
              "      <td>Bakeries, Food, Bagels</td>\n",
              "      <td>{'Monday': '0:0-0:0', 'Tuesday': '0:0-0:0', 'W...</td>\n",
              "      <td>uZ66BJLPMx6mJAY_6bi8vQ</td>\n",
              "      <td>kNL4SpfIdMC8GywGayDEOw</td>\n",
              "      <td>0</td>\n",
              "      <td>0</td>\n",
              "      <td>0</td>\n",
              "      <td>Montreal bagels were well worth the experience...</td>\n",
              "      <td>2016-07-14</td>\n",
              "      <td>4</td>\n",
              "      <td>2016-07</td>\n",
              "    </tr>\n",
              "    <tr>\n",
              "      <th>1</th>\n",
              "      <td>tOhRQqiupLyJdBJVQMGOEQ</td>\n",
              "      <td>Fairmount Bagel</td>\n",
              "      <td>74 Avenue Fairmount O</td>\n",
              "      <td>Montréal</td>\n",
              "      <td>QC</td>\n",
              "      <td>H2T 2M2</td>\n",
              "      <td>45.522908</td>\n",
              "      <td>-73.595277</td>\n",
              "      <td>4.0</td>\n",
              "      <td>645</td>\n",
              "      <td>1</td>\n",
              "      <td>{'BusinessParking': \"{'garage': False, 'street...</td>\n",
              "      <td>Bakeries, Food, Bagels</td>\n",
              "      <td>{'Monday': '0:0-0:0', 'Tuesday': '0:0-0:0', 'W...</td>\n",
              "      <td>Sc0YoR19v2ZHqPjjReMdfQ</td>\n",
              "      <td>8VFNDokKKbpUgCrH6TF9fA</td>\n",
              "      <td>0</td>\n",
              "      <td>0</td>\n",
              "      <td>0</td>\n",
              "      <td>Cheap and delicous! I definently understand wh...</td>\n",
              "      <td>2016-09-19</td>\n",
              "      <td>4</td>\n",
              "      <td>2016-09</td>\n",
              "    </tr>\n",
              "    <tr>\n",
              "      <th>2</th>\n",
              "      <td>tOhRQqiupLyJdBJVQMGOEQ</td>\n",
              "      <td>Fairmount Bagel</td>\n",
              "      <td>74 Avenue Fairmount O</td>\n",
              "      <td>Montréal</td>\n",
              "      <td>QC</td>\n",
              "      <td>H2T 2M2</td>\n",
              "      <td>45.522908</td>\n",
              "      <td>-73.595277</td>\n",
              "      <td>4.0</td>\n",
              "      <td>645</td>\n",
              "      <td>1</td>\n",
              "      <td>{'BusinessParking': \"{'garage': False, 'street...</td>\n",
              "      <td>Bakeries, Food, Bagels</td>\n",
              "      <td>{'Monday': '0:0-0:0', 'Tuesday': '0:0-0:0', 'W...</td>\n",
              "      <td>uZnzhtYAXAO_4ICeWOq9_A</td>\n",
              "      <td>bemY1DWj0rOLIPUBRnfkjg</td>\n",
              "      <td>0</td>\n",
              "      <td>0</td>\n",
              "      <td>0</td>\n",
              "      <td>Coming from a NYCer... This place is an absolu...</td>\n",
              "      <td>2018-09-03</td>\n",
              "      <td>5</td>\n",
              "      <td>2018-09</td>\n",
              "    </tr>\n",
              "    <tr>\n",
              "      <th>3</th>\n",
              "      <td>tOhRQqiupLyJdBJVQMGOEQ</td>\n",
              "      <td>Fairmount Bagel</td>\n",
              "      <td>74 Avenue Fairmount O</td>\n",
              "      <td>Montréal</td>\n",
              "      <td>QC</td>\n",
              "      <td>H2T 2M2</td>\n",
              "      <td>45.522908</td>\n",
              "      <td>-73.595277</td>\n",
              "      <td>4.0</td>\n",
              "      <td>645</td>\n",
              "      <td>1</td>\n",
              "      <td>{'BusinessParking': \"{'garage': False, 'street...</td>\n",
              "      <td>Bakeries, Food, Bagels</td>\n",
              "      <td>{'Monday': '0:0-0:0', 'Tuesday': '0:0-0:0', 'W...</td>\n",
              "      <td>Vx19GFjr7lSltZGOvBY6-A</td>\n",
              "      <td>0_7UeN4U_D6Iw6tHm90tXg</td>\n",
              "      <td>1</td>\n",
              "      <td>2</td>\n",
              "      <td>0</td>\n",
              "      <td>Great bagel if purchased straight from the ove...</td>\n",
              "      <td>2017-05-26</td>\n",
              "      <td>4</td>\n",
              "      <td>2017-05</td>\n",
              "    </tr>\n",
              "    <tr>\n",
              "      <th>4</th>\n",
              "      <td>tOhRQqiupLyJdBJVQMGOEQ</td>\n",
              "      <td>Fairmount Bagel</td>\n",
              "      <td>74 Avenue Fairmount O</td>\n",
              "      <td>Montréal</td>\n",
              "      <td>QC</td>\n",
              "      <td>H2T 2M2</td>\n",
              "      <td>45.522908</td>\n",
              "      <td>-73.595277</td>\n",
              "      <td>4.0</td>\n",
              "      <td>645</td>\n",
              "      <td>1</td>\n",
              "      <td>{'BusinessParking': \"{'garage': False, 'street...</td>\n",
              "      <td>Bakeries, Food, Bagels</td>\n",
              "      <td>{'Monday': '0:0-0:0', 'Tuesday': '0:0-0:0', 'W...</td>\n",
              "      <td>bXJ2bQ815xuUTLgo2UXpww</td>\n",
              "      <td>YVaONBBT9lSJQwBPWCB0qQ</td>\n",
              "      <td>3</td>\n",
              "      <td>2</td>\n",
              "      <td>1</td>\n",
              "      <td>Location: Let me think.... oh yes - on Fairmou...</td>\n",
              "      <td>2017-06-17</td>\n",
              "      <td>4</td>\n",
              "      <td>2017-06</td>\n",
              "    </tr>\n",
              "    <tr>\n",
              "      <th>...</th>\n",
              "      <td>...</td>\n",
              "      <td>...</td>\n",
              "      <td>...</td>\n",
              "      <td>...</td>\n",
              "      <td>...</td>\n",
              "      <td>...</td>\n",
              "      <td>...</td>\n",
              "      <td>...</td>\n",
              "      <td>...</td>\n",
              "      <td>...</td>\n",
              "      <td>...</td>\n",
              "      <td>...</td>\n",
              "      <td>...</td>\n",
              "      <td>...</td>\n",
              "      <td>...</td>\n",
              "      <td>...</td>\n",
              "      <td>...</td>\n",
              "      <td>...</td>\n",
              "      <td>...</td>\n",
              "      <td>...</td>\n",
              "      <td>...</td>\n",
              "      <td>...</td>\n",
              "      <td>...</td>\n",
              "    </tr>\n",
              "    <tr>\n",
              "      <th>98367</th>\n",
              "      <td>PxurErpS9W8ektd7xJLpCw</td>\n",
              "      <td>Le Géraldine</td>\n",
              "      <td>163 Rue Saint-Eustache</td>\n",
              "      <td>Saint-Eustache</td>\n",
              "      <td>QC</td>\n",
              "      <td>J7R 2L5</td>\n",
              "      <td>45.558630</td>\n",
              "      <td>-73.893474</td>\n",
              "      <td>5.0</td>\n",
              "      <td>3</td>\n",
              "      <td>1</td>\n",
              "      <td>{'GoodForMeal': \"{'dessert': False, 'latenight...</td>\n",
              "      <td>Restaurants, French, Bistros</td>\n",
              "      <td>NaN</td>\n",
              "      <td>2CI3Pt3k_n1M1EaX76SeXQ</td>\n",
              "      <td>-tLuSq-gr-GMI8gRF3PcjQ</td>\n",
              "      <td>1</td>\n",
              "      <td>0</td>\n",
              "      <td>0</td>\n",
              "      <td>This restaurant's food and decor is so unique ...</td>\n",
              "      <td>2019-01-23</td>\n",
              "      <td>5</td>\n",
              "      <td>2019-01</td>\n",
              "    </tr>\n",
              "    <tr>\n",
              "      <th>98368</th>\n",
              "      <td>pGug1ewRESW_HL_z3uFEHQ</td>\n",
              "      <td>Déneigement Saint-Charles</td>\n",
              "      <td>4917 Boulevard Saint-Charles</td>\n",
              "      <td>Pierrefonds</td>\n",
              "      <td>QC</td>\n",
              "      <td>H9H 3E4</td>\n",
              "      <td>45.467739</td>\n",
              "      <td>-73.874365</td>\n",
              "      <td>1.0</td>\n",
              "      <td>3</td>\n",
              "      <td>1</td>\n",
              "      <td>{'ByAppointmentOnly': 'False'}</td>\n",
              "      <td>Decks &amp; Railing, Landscaping, Gardeners, Local...</td>\n",
              "      <td>{'Monday': '8:0-17:0', 'Tuesday': '8:0-17:0', ...</td>\n",
              "      <td>zQlx0T9qLBEKmsA3VglUDA</td>\n",
              "      <td>KmSzHgFbD26Bh9rcY2I_qw</td>\n",
              "      <td>2</td>\n",
              "      <td>0</td>\n",
              "      <td>0</td>\n",
              "      <td>We have employed the fortitled company for the...</td>\n",
              "      <td>2018-02-08</td>\n",
              "      <td>1</td>\n",
              "      <td>2018-02</td>\n",
              "    </tr>\n",
              "    <tr>\n",
              "      <th>98369</th>\n",
              "      <td>pGug1ewRESW_HL_z3uFEHQ</td>\n",
              "      <td>Déneigement Saint-Charles</td>\n",
              "      <td>4917 Boulevard Saint-Charles</td>\n",
              "      <td>Pierrefonds</td>\n",
              "      <td>QC</td>\n",
              "      <td>H9H 3E4</td>\n",
              "      <td>45.467739</td>\n",
              "      <td>-73.874365</td>\n",
              "      <td>1.0</td>\n",
              "      <td>3</td>\n",
              "      <td>1</td>\n",
              "      <td>{'ByAppointmentOnly': 'False'}</td>\n",
              "      <td>Decks &amp; Railing, Landscaping, Gardeners, Local...</td>\n",
              "      <td>{'Monday': '8:0-17:0', 'Tuesday': '8:0-17:0', ...</td>\n",
              "      <td>CNpc_rwGhK9JlcKl7DfpBw</td>\n",
              "      <td>4_1MOsAkv3Xwwlz8N0YXdg</td>\n",
              "      <td>5</td>\n",
              "      <td>0</td>\n",
              "      <td>0</td>\n",
              "      <td>I've been with st-charles for 8 years. The ser...</td>\n",
              "      <td>2018-01-14</td>\n",
              "      <td>1</td>\n",
              "      <td>2018-01</td>\n",
              "    </tr>\n",
              "    <tr>\n",
              "      <th>98370</th>\n",
              "      <td>IkGlkzMHzWfpgJZv6qmTPQ</td>\n",
              "      <td>Eggsquis</td>\n",
              "      <td>3280 Boulevard Taschereau</td>\n",
              "      <td>Greenfield Park</td>\n",
              "      <td>QC</td>\n",
              "      <td>J4V 2H6</td>\n",
              "      <td>45.494508</td>\n",
              "      <td>-73.482129</td>\n",
              "      <td>3.0</td>\n",
              "      <td>4</td>\n",
              "      <td>1</td>\n",
              "      <td>{'RestaurantsGoodForGroups': 'True', 'GoodForM...</td>\n",
              "      <td>Restaurants, Breakfast &amp; Brunch</td>\n",
              "      <td>{'Monday': '6:30-15:0', 'Tuesday': '6:30-15:0'...</td>\n",
              "      <td>HbmEOCd2Mrv4iuzyCjkhdg</td>\n",
              "      <td>iu3YFvY06HzYrpzFQdFvIA</td>\n",
              "      <td>0</td>\n",
              "      <td>0</td>\n",
              "      <td>0</td>\n",
              "      <td>Je suis une cliente habituelle. J'ai toujours ...</td>\n",
              "      <td>2017-08-19</td>\n",
              "      <td>2</td>\n",
              "      <td>2017-08</td>\n",
              "    </tr>\n",
              "    <tr>\n",
              "      <th>98371</th>\n",
              "      <td>IkGlkzMHzWfpgJZv6qmTPQ</td>\n",
              "      <td>Eggsquis</td>\n",
              "      <td>3280 Boulevard Taschereau</td>\n",
              "      <td>Greenfield Park</td>\n",
              "      <td>QC</td>\n",
              "      <td>J4V 2H6</td>\n",
              "      <td>45.494508</td>\n",
              "      <td>-73.482129</td>\n",
              "      <td>3.0</td>\n",
              "      <td>4</td>\n",
              "      <td>1</td>\n",
              "      <td>{'RestaurantsGoodForGroups': 'True', 'GoodForM...</td>\n",
              "      <td>Restaurants, Breakfast &amp; Brunch</td>\n",
              "      <td>{'Monday': '6:30-15:0', 'Tuesday': '6:30-15:0'...</td>\n",
              "      <td>Firb5iZn0wa2qs7BBrwxIw</td>\n",
              "      <td>rLh63PoxknAV52w5IkmcQA</td>\n",
              "      <td>0</td>\n",
              "      <td>0</td>\n",
              "      <td>0</td>\n",
              "      <td>Had breakfast/brunch here this morning, the wa...</td>\n",
              "      <td>2019-05-05</td>\n",
              "      <td>3</td>\n",
              "      <td>2019-05</td>\n",
              "    </tr>\n",
              "  </tbody>\n",
              "</table>\n",
              "<p>98372 rows × 23 columns</p>\n",
              "</div>"
            ],
            "text/plain": [
              "                  business_id                       name  ... stars       ym\n",
              "0      tOhRQqiupLyJdBJVQMGOEQ            Fairmount Bagel  ...     4  2016-07\n",
              "1      tOhRQqiupLyJdBJVQMGOEQ            Fairmount Bagel  ...     4  2016-09\n",
              "2      tOhRQqiupLyJdBJVQMGOEQ            Fairmount Bagel  ...     5  2018-09\n",
              "3      tOhRQqiupLyJdBJVQMGOEQ            Fairmount Bagel  ...     4  2017-05\n",
              "4      tOhRQqiupLyJdBJVQMGOEQ            Fairmount Bagel  ...     4  2017-06\n",
              "...                       ...                        ...  ...   ...      ...\n",
              "98367  PxurErpS9W8ektd7xJLpCw               Le Géraldine  ...     5  2019-01\n",
              "98368  pGug1ewRESW_HL_z3uFEHQ  Déneigement Saint-Charles  ...     1  2018-02\n",
              "98369  pGug1ewRESW_HL_z3uFEHQ  Déneigement Saint-Charles  ...     1  2018-01\n",
              "98370  IkGlkzMHzWfpgJZv6qmTPQ                   Eggsquis  ...     2  2017-08\n",
              "98371  IkGlkzMHzWfpgJZv6qmTPQ                   Eggsquis  ...     3  2019-05\n",
              "\n",
              "[98372 rows x 23 columns]"
            ]
          },
          "metadata": {},
          "execution_count": 108
        }
      ]
    },
    {
      "cell_type": "code",
      "metadata": {
        "id": "inLgrx3ztxEJ",
        "colab": {
          "base_uri": "https://localhost:8080/"
        },
        "outputId": "3feea11b-f6dd-4140-8858-9eef00b55923"
      },
      "source": [
        "# take a look at the columns of the resulting dataframe\n",
        "# make sure it has all the columns from both the review and business datasets\n",
        "print((len(biz.columns)+len(df2.columns)-1) == len(mergedDF.columns))\n",
        "\n"
      ],
      "execution_count": 112,
      "outputs": [
        {
          "output_type": "stream",
          "name": "stdout",
          "text": [
            "True\n"
          ]
        }
      ]
    },
    {
      "cell_type": "code",
      "metadata": {
        "id": "VTYtASMiuO1Q",
        "colab": {
          "base_uri": "https://localhost:8080/",
          "height": 311
        },
        "outputId": "1293cea6-e7c0-46f8-d659-21e37c051c73"
      },
      "source": [
        "# make your plot, use groupby summary and unstack syntax \n",
        "# to construct plot, see examples from notes\n",
        "\n",
        "mergedDF.groupby(['ym', 'is_open'])['stars'].mean().unstack(\"is_open\").plot()\n",
        "\n"
      ],
      "execution_count": 117,
      "outputs": [
        {
          "output_type": "execute_result",
          "data": {
            "text/plain": [
              "<matplotlib.axes._subplots.AxesSubplot at 0x7f020aee5dd0>"
            ]
          },
          "metadata": {},
          "execution_count": 117
        },
        {
          "output_type": "display_data",
          "data": {
            "image/png": "[encoded data removed]",
            "text/plain": [
              "<Figure size 432x288 with 1 Axes>"
            ]
          },
          "metadata": {
            "needs_background": "light"
          }
        }
      ]
    }
  ]
}