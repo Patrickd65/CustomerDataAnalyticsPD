{
  "nbformat": 4,
  "nbformat_minor": 0,
  "metadata": {
    "colab": {
      "name": "Patrick Donaher - A5 F2021 Stats Review.ipynb",
      "provenance": [],
      "collapsed_sections": []
    },
    "kernelspec": {
      "name": "python3",
      "display_name": "Python 3"
    }
  },
  "cells": [
    {
      "cell_type": "markdown",
      "metadata": {
        "id": "I_GfWSOmUL9h"
      },
      "source": [
        "**Rationale** Hypothesis testing is foundational to the entire field of statistics. Without the Central Limit Theorem and hypothesis testing, we would not have modern day (social) science. In marketing, this is generally most important when doing A/B testing of ads. In this assignment, you will practice computing basic summary statistics and conducting hypothesis tests. \n",
        "\n",
        "[Datasets](https://drive.google.com/drive/folders/1D6D-zRU3oiP12c0dFMQjs66JDhBZBtax?usp=sharing) required:\n",
        "1. [FB ad campaign data](https://drive.google.com/file/d/1JfwvumxS2oys8ZcQtsb8GGmeRfnkzFdy/view?usp=sharing).\n",
        "1. [Starbucks Promos](https://drive.google.com/file/d/1W7x5_PU5KszT8mqXqqEmRfXuR8CRr1DX/view?usp=sharing)"
      ]
    },
    {
      "cell_type": "markdown",
      "metadata": {
        "id": "DdmKkAgxwLZB"
      },
      "source": [
        "# 1. (2 points) FB Ad campaigns\n",
        "\n",
        "1. Use a groupby operation create a dataframe called `sumstats` consisting of the total impressions and clicks for each `xyz_campaign_id`.\n",
        "1. Using `sumstats`, create a new column called `ctr` that represents the [click through rate](https://support.google.com/google-ads/answer/2615875?hl=en) for each campaign. Which campaign had the highest CTR?\n",
        "1. Create a column for `sd` for standard deviation of the click through rate. \n",
        "\n",
        "Hint: Recall from the notes that the standard deviation of a binomial distribution with $Pr(Success) = p$ is $SD(p) = \\sqrt{p(1-p)}$. So if the probability of a binary outcome (such as clicking on an ad) is observed to be .3, the standard deviation is $\\sqrt{.3(.7)}=\\sqrt{.21}$."
      ]
    },
    {
      "cell_type": "code",
      "metadata": {
        "id": "5zHCASKUwPwY",
        "colab": {
          "base_uri": "https://localhost:8080/"
        },
        "outputId": "e4f244d5-31a2-432c-8bb1-526fb900e583"
      },
      "source": [
        "# imports and mount google drive\n",
        "import os, pandas as pd, numpy as np\n",
        "from math import *\n",
        "from scipy import stats\n",
        "\n",
        "from google.colab import drive\n",
        "drive.mount('drive')"
      ],
      "execution_count": 1,
      "outputs": [
        {
          "output_type": "stream",
          "name": "stdout",
          "text": [
            "Mounted at drive\n"
          ]
        }
      ]
    },
    {
      "cell_type": "code",
      "metadata": {
        "id": "gV3R6R-6v3tG",
        "colab": {
          "base_uri": "https://localhost:8080/"
        },
        "outputId": "f7e1015b-ae1b-436c-88e6-4df4b8719f86"
      },
      "source": [
        "# set the path to the datasets for A5\n",
        "fpath = 'drive/MyDrive/A5/'\n",
        "os.listdir(fpath)"
      ],
      "execution_count": 2,
      "outputs": [
        {
          "output_type": "execute_result",
          "data": {
            "text/plain": [
              "['facebook_ads.csv', 'starbucks_promos.csv']"
            ]
          },
          "metadata": {},
          "execution_count": 2
        }
      ]
    },
    {
      "cell_type": "code",
      "metadata": {
        "id": "kgp10eMov30B",
        "colab": {
          "base_uri": "https://localhost:8080/",
          "height": 206
        },
        "outputId": "a72601a2-c6f9-4f3f-8493-628def61cf5d"
      },
      "source": [
        "# read in the facebook_ads.csv file as the dataframe variable named fb\n",
        "fb = pd.read_csv('drive/MyDrive/A5/facebook_ads.csv')\n",
        "fb.head()\n",
        "\n"
      ],
      "execution_count": 3,
      "outputs": [
        {
          "output_type": "execute_result",
          "data": {
            "text/html": [
              "<div>\n",
              "<style scoped>\n",
              "    .dataframe tbody tr th:only-of-type {\n",
              "        vertical-align: middle;\n",
              "    }\n",
              "\n",
              "    .dataframe tbody tr th {\n",
              "        vertical-align: top;\n",
              "    }\n",
              "\n",
              "    .dataframe thead th {\n",
              "        text-align: right;\n",
              "    }\n",
              "</style>\n",
              "<table border=\"1\" class=\"dataframe\">\n",
              "  <thead>\n",
              "    <tr style=\"text-align: right;\">\n",
              "      <th></th>\n",
              "      <th>ad_id</th>\n",
              "      <th>xyz_campaign_id</th>\n",
              "      <th>fb_campaign_id</th>\n",
              "      <th>age</th>\n",
              "      <th>gender</th>\n",
              "      <th>interest</th>\n",
              "      <th>Impressions</th>\n",
              "      <th>Clicks</th>\n",
              "      <th>Spent</th>\n",
              "      <th>Total_Conversion</th>\n",
              "      <th>Approved_Conversion</th>\n",
              "    </tr>\n",
              "  </thead>\n",
              "  <tbody>\n",
              "    <tr>\n",
              "      <th>0</th>\n",
              "      <td>708746</td>\n",
              "      <td>916</td>\n",
              "      <td>103916</td>\n",
              "      <td>30-34</td>\n",
              "      <td>M</td>\n",
              "      <td>15</td>\n",
              "      <td>7350</td>\n",
              "      <td>1</td>\n",
              "      <td>1.43</td>\n",
              "      <td>2</td>\n",
              "      <td>1</td>\n",
              "    </tr>\n",
              "    <tr>\n",
              "      <th>1</th>\n",
              "      <td>708749</td>\n",
              "      <td>916</td>\n",
              "      <td>103917</td>\n",
              "      <td>30-34</td>\n",
              "      <td>M</td>\n",
              "      <td>16</td>\n",
              "      <td>17861</td>\n",
              "      <td>2</td>\n",
              "      <td>1.82</td>\n",
              "      <td>2</td>\n",
              "      <td>0</td>\n",
              "    </tr>\n",
              "    <tr>\n",
              "      <th>2</th>\n",
              "      <td>708771</td>\n",
              "      <td>916</td>\n",
              "      <td>103920</td>\n",
              "      <td>30-34</td>\n",
              "      <td>M</td>\n",
              "      <td>20</td>\n",
              "      <td>693</td>\n",
              "      <td>0</td>\n",
              "      <td>0.00</td>\n",
              "      <td>1</td>\n",
              "      <td>0</td>\n",
              "    </tr>\n",
              "    <tr>\n",
              "      <th>3</th>\n",
              "      <td>708815</td>\n",
              "      <td>916</td>\n",
              "      <td>103928</td>\n",
              "      <td>30-34</td>\n",
              "      <td>M</td>\n",
              "      <td>28</td>\n",
              "      <td>4259</td>\n",
              "      <td>1</td>\n",
              "      <td>1.25</td>\n",
              "      <td>1</td>\n",
              "      <td>0</td>\n",
              "    </tr>\n",
              "    <tr>\n",
              "      <th>4</th>\n",
              "      <td>708818</td>\n",
              "      <td>916</td>\n",
              "      <td>103928</td>\n",
              "      <td>30-34</td>\n",
              "      <td>M</td>\n",
              "      <td>28</td>\n",
              "      <td>4133</td>\n",
              "      <td>1</td>\n",
              "      <td>1.29</td>\n",
              "      <td>1</td>\n",
              "      <td>1</td>\n",
              "    </tr>\n",
              "  </tbody>\n",
              "</table>\n",
              "</div>"
            ],
            "text/plain": [
              "    ad_id  xyz_campaign_id  ...  Total_Conversion Approved_Conversion\n",
              "0  708746              916  ...                 2                   1\n",
              "1  708749              916  ...                 2                   0\n",
              "2  708771              916  ...                 1                   0\n",
              "3  708815              916  ...                 1                   0\n",
              "4  708818              916  ...                 1                   1\n",
              "\n",
              "[5 rows x 11 columns]"
            ]
          },
          "metadata": {},
          "execution_count": 3
        }
      ]
    },
    {
      "cell_type": "code",
      "metadata": {
        "id": "Lcc5ZfCYv36W",
        "colab": {
          "base_uri": "https://localhost:8080/",
          "height": 206
        },
        "outputId": "f2629742-01c2-4e67-a4a8-cc939a959ff9"
      },
      "source": [
        "# Take a look at the first 5 rows\n",
        "# Observe that each row represents 1 ad from 1 campaign and a target demographic group (age, gender, interest)\n",
        "fb.head()"
      ],
      "execution_count": 4,
      "outputs": [
        {
          "output_type": "execute_result",
          "data": {
            "text/html": [
              "<div>\n",
              "<style scoped>\n",
              "    .dataframe tbody tr th:only-of-type {\n",
              "        vertical-align: middle;\n",
              "    }\n",
              "\n",
              "    .dataframe tbody tr th {\n",
              "        vertical-align: top;\n",
              "    }\n",
              "\n",
              "    .dataframe thead th {\n",
              "        text-align: right;\n",
              "    }\n",
              "</style>\n",
              "<table border=\"1\" class=\"dataframe\">\n",
              "  <thead>\n",
              "    <tr style=\"text-align: right;\">\n",
              "      <th></th>\n",
              "      <th>ad_id</th>\n",
              "      <th>xyz_campaign_id</th>\n",
              "      <th>fb_campaign_id</th>\n",
              "      <th>age</th>\n",
              "      <th>gender</th>\n",
              "      <th>interest</th>\n",
              "      <th>Impressions</th>\n",
              "      <th>Clicks</th>\n",
              "      <th>Spent</th>\n",
              "      <th>Total_Conversion</th>\n",
              "      <th>Approved_Conversion</th>\n",
              "    </tr>\n",
              "  </thead>\n",
              "  <tbody>\n",
              "    <tr>\n",
              "      <th>0</th>\n",
              "      <td>708746</td>\n",
              "      <td>916</td>\n",
              "      <td>103916</td>\n",
              "      <td>30-34</td>\n",
              "      <td>M</td>\n",
              "      <td>15</td>\n",
              "      <td>7350</td>\n",
              "      <td>1</td>\n",
              "      <td>1.43</td>\n",
              "      <td>2</td>\n",
              "      <td>1</td>\n",
              "    </tr>\n",
              "    <tr>\n",
              "      <th>1</th>\n",
              "      <td>708749</td>\n",
              "      <td>916</td>\n",
              "      <td>103917</td>\n",
              "      <td>30-34</td>\n",
              "      <td>M</td>\n",
              "      <td>16</td>\n",
              "      <td>17861</td>\n",
              "      <td>2</td>\n",
              "      <td>1.82</td>\n",
              "      <td>2</td>\n",
              "      <td>0</td>\n",
              "    </tr>\n",
              "    <tr>\n",
              "      <th>2</th>\n",
              "      <td>708771</td>\n",
              "      <td>916</td>\n",
              "      <td>103920</td>\n",
              "      <td>30-34</td>\n",
              "      <td>M</td>\n",
              "      <td>20</td>\n",
              "      <td>693</td>\n",
              "      <td>0</td>\n",
              "      <td>0.00</td>\n",
              "      <td>1</td>\n",
              "      <td>0</td>\n",
              "    </tr>\n",
              "    <tr>\n",
              "      <th>3</th>\n",
              "      <td>708815</td>\n",
              "      <td>916</td>\n",
              "      <td>103928</td>\n",
              "      <td>30-34</td>\n",
              "      <td>M</td>\n",
              "      <td>28</td>\n",
              "      <td>4259</td>\n",
              "      <td>1</td>\n",
              "      <td>1.25</td>\n",
              "      <td>1</td>\n",
              "      <td>0</td>\n",
              "    </tr>\n",
              "    <tr>\n",
              "      <th>4</th>\n",
              "      <td>708818</td>\n",
              "      <td>916</td>\n",
              "      <td>103928</td>\n",
              "      <td>30-34</td>\n",
              "      <td>M</td>\n",
              "      <td>28</td>\n",
              "      <td>4133</td>\n",
              "      <td>1</td>\n",
              "      <td>1.29</td>\n",
              "      <td>1</td>\n",
              "      <td>1</td>\n",
              "    </tr>\n",
              "  </tbody>\n",
              "</table>\n",
              "</div>"
            ],
            "text/plain": [
              "    ad_id  xyz_campaign_id  ...  Total_Conversion Approved_Conversion\n",
              "0  708746              916  ...                 2                   1\n",
              "1  708749              916  ...                 2                   0\n",
              "2  708771              916  ...                 1                   0\n",
              "3  708815              916  ...                 1                   0\n",
              "4  708818              916  ...                 1                   1\n",
              "\n",
              "[5 rows x 11 columns]"
            ]
          },
          "metadata": {},
          "execution_count": 4
        }
      ]
    },
    {
      "cell_type": "code",
      "metadata": {
        "id": "ed4vShBTwO8e",
        "colab": {
          "base_uri": "https://localhost:8080/",
          "height": 143
        },
        "outputId": "d5a11c83-500f-4b8e-b149-0a9e8f1cb639"
      },
      "source": [
        "# use a groupby to create new dataframe, sumstats that tabulates the total clicks and impressions for each campaign.\n",
        "# Generic groupby syntax: sumstats = df.groupby('groupbyvariable')[['summary_variable1', 'summary_variable2']].summaryfunction().reset_index()\n",
        "# use the correct dataframe name, variables (i.e. column names) and summaryfunction\n",
        "\n",
        "sumstats = fb.groupby('xyz_campaign_id')[['Impressions', 'Clicks']].sum().reset_index()\n",
        "sumstats.head()"
      ],
      "execution_count": 5,
      "outputs": [
        {
          "output_type": "execute_result",
          "data": {
            "text/html": [
              "<div>\n",
              "<style scoped>\n",
              "    .dataframe tbody tr th:only-of-type {\n",
              "        vertical-align: middle;\n",
              "    }\n",
              "\n",
              "    .dataframe tbody tr th {\n",
              "        vertical-align: top;\n",
              "    }\n",
              "\n",
              "    .dataframe thead th {\n",
              "        text-align: right;\n",
              "    }\n",
              "</style>\n",
              "<table border=\"1\" class=\"dataframe\">\n",
              "  <thead>\n",
              "    <tr style=\"text-align: right;\">\n",
              "      <th></th>\n",
              "      <th>xyz_campaign_id</th>\n",
              "      <th>Impressions</th>\n",
              "      <th>Clicks</th>\n",
              "    </tr>\n",
              "  </thead>\n",
              "  <tbody>\n",
              "    <tr>\n",
              "      <th>0</th>\n",
              "      <td>916</td>\n",
              "      <td>482925</td>\n",
              "      <td>113</td>\n",
              "    </tr>\n",
              "    <tr>\n",
              "      <th>1</th>\n",
              "      <td>936</td>\n",
              "      <td>8128187</td>\n",
              "      <td>1984</td>\n",
              "    </tr>\n",
              "    <tr>\n",
              "      <th>2</th>\n",
              "      <td>1178</td>\n",
              "      <td>204823716</td>\n",
              "      <td>36068</td>\n",
              "    </tr>\n",
              "  </tbody>\n",
              "</table>\n",
              "</div>"
            ],
            "text/plain": [
              "   xyz_campaign_id  Impressions  Clicks\n",
              "0              916       482925     113\n",
              "1              936      8128187    1984\n",
              "2             1178    204823716   36068"
            ]
          },
          "metadata": {},
          "execution_count": 5
        }
      ]
    },
    {
      "cell_type": "code",
      "metadata": {
        "id": "-fRgZWiJwO_E"
      },
      "source": [
        "# create a new column in sumstats called 'ctr' (short for click through rate)\n",
        "# recall that ctr = clicks / impressions\n",
        "sumstats[\"ctr\"] = (sumstats[\"Impressions\"] / sumstats[\"Clicks\"]) \n",
        "\n"
      ],
      "execution_count": 6,
      "outputs": []
    },
    {
      "cell_type": "code",
      "metadata": {
        "id": "whB7lmTmwPBy",
        "colab": {
          "base_uri": "https://localhost:8080/",
          "height": 143
        },
        "outputId": "cfa9d601-5a6e-4e92-d9de-43cfef8d4708"
      },
      "source": [
        "# take a look at the whole sumstats dataframe\n",
        "sumstats.head()\n"
      ],
      "execution_count": 7,
      "outputs": [
        {
          "output_type": "execute_result",
          "data": {
            "text/html": [
              "<div>\n",
              "<style scoped>\n",
              "    .dataframe tbody tr th:only-of-type {\n",
              "        vertical-align: middle;\n",
              "    }\n",
              "\n",
              "    .dataframe tbody tr th {\n",
              "        vertical-align: top;\n",
              "    }\n",
              "\n",
              "    .dataframe thead th {\n",
              "        text-align: right;\n",
              "    }\n",
              "</style>\n",
              "<table border=\"1\" class=\"dataframe\">\n",
              "  <thead>\n",
              "    <tr style=\"text-align: right;\">\n",
              "      <th></th>\n",
              "      <th>xyz_campaign_id</th>\n",
              "      <th>Impressions</th>\n",
              "      <th>Clicks</th>\n",
              "      <th>ctr</th>\n",
              "    </tr>\n",
              "  </thead>\n",
              "  <tbody>\n",
              "    <tr>\n",
              "      <th>0</th>\n",
              "      <td>916</td>\n",
              "      <td>482925</td>\n",
              "      <td>113</td>\n",
              "      <td>4273.672566</td>\n",
              "    </tr>\n",
              "    <tr>\n",
              "      <th>1</th>\n",
              "      <td>936</td>\n",
              "      <td>8128187</td>\n",
              "      <td>1984</td>\n",
              "      <td>4096.868448</td>\n",
              "    </tr>\n",
              "    <tr>\n",
              "      <th>2</th>\n",
              "      <td>1178</td>\n",
              "      <td>204823716</td>\n",
              "      <td>36068</td>\n",
              "      <td>5678.821005</td>\n",
              "    </tr>\n",
              "  </tbody>\n",
              "</table>\n",
              "</div>"
            ],
            "text/plain": [
              "   xyz_campaign_id  Impressions  Clicks          ctr\n",
              "0              916       482925     113  4273.672566\n",
              "1              936      8128187    1984  4096.868448\n",
              "2             1178    204823716   36068  5678.821005"
            ]
          },
          "metadata": {},
          "execution_count": 7
        }
      ]
    },
    {
      "cell_type": "code",
      "metadata": {
        "id": "MJquIHeo7oLg",
        "colab": {
          "base_uri": "https://localhost:8080/"
        },
        "outputId": "40e326bf-ee3b-4619-aecc-adc8338f1f12"
      },
      "source": [
        "# create a new column ctr_sd for the std. dev of the ctr (See hint above)\n",
        "# pay attention to PEMDAS, esp. that you want to take the sqrt after computing p*(1-p)\n",
        "# np.sqrt(x) returns the sqrt of some number x\n",
        "# alternatively, x**.5 also returns the sqrt of x\n",
        "\n",
        "ctr_std = sumstats.ctr.std(ddof=0)\n",
        "ctr_std\n",
        "\n",
        "\n",
        "\n",
        "\n",
        "\n",
        "\n"
      ],
      "execution_count": 8,
      "outputs": [
        {
          "output_type": "execute_result",
          "data": {
            "text/plain": [
              "707.756684771233"
            ]
          },
          "metadata": {},
          "execution_count": 8
        }
      ]
    },
    {
      "cell_type": "code",
      "metadata": {
        "id": "F1-_ImT28dJe",
        "colab": {
          "base_uri": "https://localhost:8080/",
          "height": 143
        },
        "outputId": "8a1ad86f-c382-4738-84a4-07df03ee022c"
      },
      "source": [
        "# take another look at the whole sumstats dataframe\n",
        "# compare the ctr_std to calculating it by hand, make sure you did this correctly.\n",
        "sumstats\n",
        "\n"
      ],
      "execution_count": 9,
      "outputs": [
        {
          "output_type": "execute_result",
          "data": {
            "text/html": [
              "<div>\n",
              "<style scoped>\n",
              "    .dataframe tbody tr th:only-of-type {\n",
              "        vertical-align: middle;\n",
              "    }\n",
              "\n",
              "    .dataframe tbody tr th {\n",
              "        vertical-align: top;\n",
              "    }\n",
              "\n",
              "    .dataframe thead th {\n",
              "        text-align: right;\n",
              "    }\n",
              "</style>\n",
              "<table border=\"1\" class=\"dataframe\">\n",
              "  <thead>\n",
              "    <tr style=\"text-align: right;\">\n",
              "      <th></th>\n",
              "      <th>xyz_campaign_id</th>\n",
              "      <th>Impressions</th>\n",
              "      <th>Clicks</th>\n",
              "      <th>ctr</th>\n",
              "    </tr>\n",
              "  </thead>\n",
              "  <tbody>\n",
              "    <tr>\n",
              "      <th>0</th>\n",
              "      <td>916</td>\n",
              "      <td>482925</td>\n",
              "      <td>113</td>\n",
              "      <td>4273.672566</td>\n",
              "    </tr>\n",
              "    <tr>\n",
              "      <th>1</th>\n",
              "      <td>936</td>\n",
              "      <td>8128187</td>\n",
              "      <td>1984</td>\n",
              "      <td>4096.868448</td>\n",
              "    </tr>\n",
              "    <tr>\n",
              "      <th>2</th>\n",
              "      <td>1178</td>\n",
              "      <td>204823716</td>\n",
              "      <td>36068</td>\n",
              "      <td>5678.821005</td>\n",
              "    </tr>\n",
              "  </tbody>\n",
              "</table>\n",
              "</div>"
            ],
            "text/plain": [
              "   xyz_campaign_id  Impressions  Clicks          ctr\n",
              "0              916       482925     113  4273.672566\n",
              "1              936      8128187    1984  4096.868448\n",
              "2             1178    204823716   36068  5678.821005"
            ]
          },
          "metadata": {},
          "execution_count": 9
        }
      ]
    },
    {
      "cell_type": "markdown",
      "metadata": {
        "id": "8HRyqz1Exl4Y"
      },
      "source": [
        "## Answer (edit this cell)\n",
        "The campaign with the highest CTR is: **__Campaign 1178_____________**\n"
      ]
    },
    {
      "cell_type": "markdown",
      "metadata": {
        "id": "cEYwuOWowQaF"
      },
      "source": [
        "# 2. (4 points) Hypothesis testing and confidence intervals\n",
        "\n",
        "1. Compute the 95% confidence interval for the CTR for each campaign. Compare the confidence intervals of campaign 916 and 936. What can you conclude about the relative perfrmance of the 2 ads in the population (e.g. are they very different, similar, etc.)? How about 916 vs. 1178?\n",
        "1. Was campaign 936 statistically different compared to campaign 916? How about 936 vs. 1178? Use the `ttest_2sample` function from the notes. Remember, you must define it in your Colab session in order to use it (execute the cell w/ the function).\n",
        "\n",
        "Given these statistical tests what would you recommend in terms of allocation of the ad budget? "
      ]
    },
    {
      "cell_type": "markdown",
      "metadata": {
        "id": "nqanQKblrlSJ"
      },
      "source": [
        ""
      ]
    },
    {
      "cell_type": "code",
      "metadata": {
        "id": "DJdbML1BCQ7X",
        "colab": {
          "base_uri": "https://localhost:8080/"
        },
        "outputId": "474fae66-25ff-4f7b-eef2-ada1ba43d5ca"
      },
      "source": [
        "# use stats.norm.ppf([.025, .975], mean, std error)\n",
        "# where mean is sample mean and std error is std dev / sqrt(obs) (from Central Limit Theorem)\n",
        "numberResults = fb.pivot_table(columns=['xyz_campaign_id'], aggfunc='size')\n",
        "responses916= numberResults.get(916)\n",
        "ctr916 = sumstats['ctr'].loc[0]\n",
        "numbObs = len(fb)\n",
        "\n",
        "# confidence interval for ad 916\n",
        "stats.norm.ppf([.5,.95], ctr916/responses916, ctr_std/sqrt(numbObs))\n"
      ],
      "execution_count": 10,
      "outputs": [
        {
          "output_type": "execute_result",
          "data": {
            "text/plain": [
              "array([ 79.14208456, 113.57613582])"
            ]
          },
          "metadata": {},
          "execution_count": 10
        }
      ]
    },
    {
      "cell_type": "code",
      "metadata": {
        "id": "5iw0uMWEyzX1",
        "colab": {
          "base_uri": "https://localhost:8080/"
        },
        "outputId": "3a3aca77-24a8-47f5-c1a4-2dfce81b9dd9"
      },
      "source": [
        "# confidence interval for ad 936\n",
        "\n",
        "responses936= numberResults.get(936)\n",
        "ctr936 = sumstats['ctr'].loc[1]\n",
        "numbObs = len(fb)\n",
        "\n",
        "stats.norm.ppf([.5,.95], ctr936/responses936, ctr_std/sqrt(numbObs))"
      ],
      "execution_count": 11,
      "outputs": [
        {
          "output_type": "execute_result",
          "data": {
            "text/plain": [
              "array([ 8.82945786, 43.26350912])"
            ]
          },
          "metadata": {},
          "execution_count": 11
        }
      ]
    },
    {
      "cell_type": "code",
      "metadata": {
        "id": "z2rG1Vd2y3GH",
        "colab": {
          "base_uri": "https://localhost:8080/"
        },
        "outputId": "3e814655-1f38-41fc-c775-a00383bb3bec"
      },
      "source": [
        "# confidence interval for ad 1178\n",
        "\n",
        "responses1178= numberResults.get(1178)\n",
        "ctr1178 = sumstats['ctr'].loc[2]\n",
        "numbObs = len(fb)\n",
        "\n",
        "stats.norm.ppf([.5,.95], ctr1178/responses1178, ctr_std/sqrt(numbObs))\n",
        "\n"
      ],
      "execution_count": 12,
      "outputs": [
        {
          "output_type": "execute_result",
          "data": {
            "text/plain": [
              "array([ 9.08611361, 43.52016486])"
            ]
          },
          "metadata": {},
          "execution_count": 12
        }
      ]
    },
    {
      "cell_type": "markdown",
      "metadata": {
        "id": "a3WMsEHX9VOa"
      },
      "source": [
        "**Edit this cell**\n",
        "\n",
        "1. (write 1-2 sentences to compare the confidence interval of 916 vs 936's CTR)\n",
        "**We are 95% confident that the result of 916's CTR will fall in the interval of (79.14208456, 113.57613582), and we are 95% confident that the result of 936's CTR will fall in the interval of (8.82945786, 43.26350912). Therefore on average the CTR of 916 is much higher than 936.** \n",
        "\n",
        "1. (write 1-2 sentences to compare the confidence interval of 916 vs 1178's CTR)\n",
        "**We are 95% confident that the result of 916's CTR will fall in the interval of (79.14208456, 113.57613582), and we are 95% confident that the result of 1178's CTR will fall in the interval of (9.08611361, 43.52016486). Therefore on average the CTR of 916 is much higher than 1178.** "
      ]
    },
    {
      "cell_type": "code",
      "metadata": {
        "id": "u_jk2UHrAGoX"
      },
      "source": [
        "# Use this custom funciton\n",
        "\n",
        "def ttest_2sample(m1,sd1,N1,m2,sd2,N2, twotail = True, equalvar = False):\n",
        "    \"\"\"\n",
        "    This function requires you tu supply:\n",
        "    m1: mean of sample 1\n",
        "    sd1: std. dev of sample 1\n",
        "    N1: number of obs of sample 1\n",
        "    m2: mean of sample 2\n",
        "    sd2: std dev of sample 2\n",
        "    N2: number of obs of sample 2\n",
        "\n",
        "    Optional inputs:\n",
        "    twotail = True (default) / False. If False, then 1 tail\n",
        "    equalvar = True / False (default). If True, assumes equal population variance.\n",
        "    \"\"\"\n",
        "\n",
        "    # The difference between equal and unequal variance is only in how to compute\n",
        "    # the test statistic and degree of freedom.\n",
        "    if equalvar:\n",
        "        spsquare = ((N1-1)*sd1**2+(N2-1)*sd2**2)/(N1+N2-2) \n",
        "        T = (m1-m2)/np.sqrt(spsquare*(1/N1+1/N2))\n",
        "        nu = N1+N2-2\n",
        "    else:\n",
        "        nu = (sd1**2/N1+sd2**2/N2)**2/((sd1**2/N1)**2/(N1-1)+(sd2**2/N2)**2/(N2-1)) # new degree of freedom\n",
        "        T = (m1-m2)/(np.sqrt(sd1**2/N1+sd2**2/N2))\n",
        "    \n",
        "    # If the first mean is bigger, we need to do 1- cdf\n",
        "    # Otherwise just compute cdf\n",
        "    if m1>m2:\n",
        "        pval = 1-stats.t.cdf(T, df = nu)\n",
        "    else:\n",
        "        pval = stats.t.cdf(T, df = nu)\n",
        "\n",
        "    # return p values\n",
        "    # If 2 tail, we must multiply by 2\n",
        "    # otherwise we just return the computed pval\n",
        "    if twotail == True:\n",
        "        return pval*2\n",
        "    else:\n",
        "        return pval"
      ],
      "execution_count": 14,
      "outputs": []
    },
    {
      "cell_type": "code",
      "metadata": {
        "id": "IInYMY2dBHLv",
        "colab": {
          "base_uri": "https://localhost:8080/"
        },
        "outputId": "3aa22f8b-282c-4585-b0cb-231918629dca"
      },
      "source": [
        "# run a 2 tail 2 sample t-test to compare the population CTRs for 936 and 916\n",
        "\n",
        "ttest_2sample((ctr936/responses936), ctr_std, numbObs, (ctr916/responses916), ctr_std, numbObs )\n",
        "\n"
      ],
      "execution_count": 16,
      "outputs": [
        {
          "output_type": "execute_result",
          "data": {
            "text/plain": [
              "0.017632692729846532"
            ]
          },
          "metadata": {},
          "execution_count": 16
        }
      ]
    },
    {
      "cell_type": "code",
      "metadata": {
        "id": "qvEZoE2iIagx",
        "colab": {
          "base_uri": "https://localhost:8080/"
        },
        "outputId": "36c30e8f-f5a0-4c96-bdc7-6de6a5127a5f"
      },
      "source": [
        "# run a 2 tail 2 sample t-test to compare the population CTRs for 936 and 1178\n",
        "ttest_2sample((ctr936/responses936), ctr_std, numbObs, (ctr1178/responses1178), ctr_std, numbObs )"
      ],
      "execution_count": 19,
      "outputs": [
        {
          "output_type": "execute_result",
          "data": {
            "text/plain": [
              "0.9930838848959749"
            ]
          },
          "metadata": {},
          "execution_count": 19
        }
      ]
    },
    {
      "cell_type": "markdown",
      "metadata": {
        "id": "4_YVpVfB08wW"
      },
      "source": [
        "**Edit this cell to answer**\n",
        "\n",
        "(Write a few sentences to describe how to proceed with the allocation of the ad budget going forward. Be sure to use the 2 tail t-tests above to support your strategy) **The p-value in the comparison of 936 and 916 is .017 which is less than .05, which means that we reject the null and that there is a difference in the population means. The p-value in the comparison of 936 and 1178 is .993 which is greater than .05 so we accept the null meaning the population means are the same. **\n",
        "**The alloaction of the ad budget would have to be adjusted accordingly because this means that 936 and 1178 have a much larger population, meaning even if their CTR is lower they should recieve more budgeting**"
      ]
    },
    {
      "cell_type": "markdown",
      "metadata": {
        "id": "ypanZDwVAOu2"
      },
      "source": [
        "# 3. (4 points)\n",
        "\n",
        "Using the Starbucks dataset, conduct an appropriate statistical test to determine:\n",
        "1. Is there any statistically appreciable difference in the redemption rates of BOGO vs. Discount promotions?\n",
        "1. Among those who redeemed an offer and reported their income, is there any statistical difference in the average income associated with BOGO vs. discount redemptions? Note that not every observation reports income (select only the observations that do)."
      ]
    },
    {
      "cell_type": "code",
      "metadata": {
        "id": "2hSML7pKQafY"
      },
      "source": [
        "# read in the starbucks_promos.csv file as the dataframe variable named sb, use index_col = 0 option\n",
        "sb = pd.read_csv('drive/MyDrive/A5/starbucks_promos.csv', index_col = 0)\n"
      ],
      "execution_count": 21,
      "outputs": []
    },
    {
      "cell_type": "code",
      "metadata": {
        "id": "K3ZbG5blJPSz",
        "colab": {
          "base_uri": "https://localhost:8080/",
          "height": 417
        },
        "outputId": "e9bbe900-022c-4947-9816-05b3a488e4ef"
      },
      "source": [
        "# preview first 5 rows to get a sense of the contents of the dataframe\n",
        "# note that each observation represents an offer received by a customer\n",
        "sb.head(5)"
      ],
      "execution_count": 23,
      "outputs": [
        {
          "output_type": "execute_result",
          "data": {
            "text/html": [
              "<div>\n",
              "<style scoped>\n",
              "    .dataframe tbody tr th:only-of-type {\n",
              "        vertical-align: middle;\n",
              "    }\n",
              "\n",
              "    .dataframe tbody tr th {\n",
              "        vertical-align: top;\n",
              "    }\n",
              "\n",
              "    .dataframe thead th {\n",
              "        text-align: right;\n",
              "    }\n",
              "</style>\n",
              "<table border=\"1\" class=\"dataframe\">\n",
              "  <thead>\n",
              "    <tr style=\"text-align: right;\">\n",
              "      <th></th>\n",
              "      <th>uid</th>\n",
              "      <th>event</th>\n",
              "      <th>time</th>\n",
              "      <th>gender</th>\n",
              "      <th>age</th>\n",
              "      <th>register_date</th>\n",
              "      <th>income</th>\n",
              "      <th>offer_id</th>\n",
              "      <th>offer_reward</th>\n",
              "      <th>channels</th>\n",
              "      <th>difficulty</th>\n",
              "      <th>duration</th>\n",
              "      <th>offer_type</th>\n",
              "      <th>offer_time</th>\n",
              "      <th>transaction_amount</th>\n",
              "      <th>redeem_time</th>\n",
              "      <th>redeemed</th>\n",
              "    </tr>\n",
              "  </thead>\n",
              "  <tbody>\n",
              "    <tr>\n",
              "      <th>1</th>\n",
              "      <td>0020c2b971eb4e9188eac86d93036a77</td>\n",
              "      <td>offer received</td>\n",
              "      <td>0</td>\n",
              "      <td>F</td>\n",
              "      <td>59</td>\n",
              "      <td>20160304</td>\n",
              "      <td>90000.0</td>\n",
              "      <td>fafdcd668e3743c1bb461111dcafc2a4</td>\n",
              "      <td>2.0</td>\n",
              "      <td>['web', 'email', 'mobile', 'social']</td>\n",
              "      <td>10.0</td>\n",
              "      <td>240.0</td>\n",
              "      <td>discount</td>\n",
              "      <td>0.0</td>\n",
              "      <td>17.63</td>\n",
              "      <td>54.0</td>\n",
              "      <td>1</td>\n",
              "    </tr>\n",
              "    <tr>\n",
              "      <th>4</th>\n",
              "      <td>005500a7188546ff8a767329a2f7c76a</td>\n",
              "      <td>offer received</td>\n",
              "      <td>0</td>\n",
              "      <td>M</td>\n",
              "      <td>56</td>\n",
              "      <td>20171209</td>\n",
              "      <td>47000.0</td>\n",
              "      <td>ae264e3637204a6fb9bb56bc8210ddfd</td>\n",
              "      <td>10.0</td>\n",
              "      <td>['email', 'mobile', 'social']</td>\n",
              "      <td>10.0</td>\n",
              "      <td>168.0</td>\n",
              "      <td>bogo</td>\n",
              "      <td>0.0</td>\n",
              "      <td>NaN</td>\n",
              "      <td>NaN</td>\n",
              "      <td>0</td>\n",
              "    </tr>\n",
              "    <tr>\n",
              "      <th>5</th>\n",
              "      <td>0056df74b63b4298809f0b375a304cf4</td>\n",
              "      <td>offer received</td>\n",
              "      <td>0</td>\n",
              "      <td>M</td>\n",
              "      <td>54</td>\n",
              "      <td>20160821</td>\n",
              "      <td>91000.0</td>\n",
              "      <td>9b98b8c7a33c4b65b9aebfe6a799e6d9</td>\n",
              "      <td>5.0</td>\n",
              "      <td>['web', 'email', 'mobile']</td>\n",
              "      <td>5.0</td>\n",
              "      <td>168.0</td>\n",
              "      <td>bogo</td>\n",
              "      <td>0.0</td>\n",
              "      <td>27.86</td>\n",
              "      <td>132.0</td>\n",
              "      <td>1</td>\n",
              "    </tr>\n",
              "    <tr>\n",
              "      <th>6</th>\n",
              "      <td>00715b6e55c3431cb56ff7307eb19675</td>\n",
              "      <td>offer received</td>\n",
              "      <td>0</td>\n",
              "      <td>F</td>\n",
              "      <td>58</td>\n",
              "      <td>20171207</td>\n",
              "      <td>119000.0</td>\n",
              "      <td>ae264e3637204a6fb9bb56bc8210ddfd</td>\n",
              "      <td>10.0</td>\n",
              "      <td>['email', 'mobile', 'social']</td>\n",
              "      <td>10.0</td>\n",
              "      <td>168.0</td>\n",
              "      <td>bogo</td>\n",
              "      <td>0.0</td>\n",
              "      <td>27.26</td>\n",
              "      <td>12.0</td>\n",
              "      <td>1</td>\n",
              "    </tr>\n",
              "    <tr>\n",
              "      <th>8</th>\n",
              "      <td>00840a2ca5d2408e982d56544dc14ffd</td>\n",
              "      <td>offer received</td>\n",
              "      <td>0</td>\n",
              "      <td>M</td>\n",
              "      <td>26</td>\n",
              "      <td>20141221</td>\n",
              "      <td>61000.0</td>\n",
              "      <td>2906b810c7d4411798c6938adc9daaa5</td>\n",
              "      <td>2.0</td>\n",
              "      <td>['web', 'email', 'mobile']</td>\n",
              "      <td>10.0</td>\n",
              "      <td>168.0</td>\n",
              "      <td>discount</td>\n",
              "      <td>0.0</td>\n",
              "      <td>6.05</td>\n",
              "      <td>540.0</td>\n",
              "      <td>1</td>\n",
              "    </tr>\n",
              "  </tbody>\n",
              "</table>\n",
              "</div>"
            ],
            "text/plain": [
              "                                uid           event  ...  redeem_time redeemed\n",
              "1  0020c2b971eb4e9188eac86d93036a77  offer received  ...         54.0        1\n",
              "4  005500a7188546ff8a767329a2f7c76a  offer received  ...          NaN        0\n",
              "5  0056df74b63b4298809f0b375a304cf4  offer received  ...        132.0        1\n",
              "6  00715b6e55c3431cb56ff7307eb19675  offer received  ...         12.0        1\n",
              "8  00840a2ca5d2408e982d56544dc14ffd  offer received  ...        540.0        1\n",
              "\n",
              "[5 rows x 17 columns]"
            ]
          },
          "metadata": {},
          "execution_count": 23
        }
      ]
    },
    {
      "cell_type": "code",
      "metadata": {
        "id": "SgSm9c_16egs"
      },
      "source": [
        ""
      ],
      "execution_count": null,
      "outputs": []
    },
    {
      "cell_type": "code",
      "metadata": {
        "id": "iC8EEC4kJS6L",
        "colab": {
          "base_uri": "https://localhost:8080/"
        },
        "outputId": "abbd3588-464f-4319-902c-578bb9678f71"
      },
      "source": [
        "# select the reemed column for discount offers, name this data the variable disc\n",
        "disc= sb.loc[sb[\"offer_type\"]==\"discount\"]\n",
        "disc[\"redeemed\"]"
      ],
      "execution_count": 44,
      "outputs": [
        {
          "output_type": "execute_result",
          "data": {
            "text/plain": [
              "1        1\n",
              "8        1\n",
              "13       1\n",
              "17       1\n",
              "19       0\n",
              "        ..\n",
              "76259    1\n",
              "76264    1\n",
              "76266    1\n",
              "76272    0\n",
              "76276    1\n",
              "Name: redeemed, Length: 30543, dtype: int64"
            ]
          },
          "metadata": {},
          "execution_count": 44
        }
      ]
    },
    {
      "cell_type": "code",
      "metadata": {
        "id": "F4KtRoje68hX"
      },
      "source": [
        ""
      ],
      "execution_count": null,
      "outputs": []
    },
    {
      "cell_type": "code",
      "metadata": {
        "id": "pGo0BwRTKYRb",
        "colab": {
          "base_uri": "https://localhost:8080/",
          "height": 434
        },
        "outputId": "93ba374a-368e-4b1e-be7a-2cd5d43c3719"
      },
      "source": [
        "# select the reemed column for buy one get one (bogo) offers, name this data the variable bogo\n",
        "bogo= sb.loc[sb[\"offer_type\"]==\"bogo\"]\n",
        "bogo.head()\n"
      ],
      "execution_count": 40,
      "outputs": [
        {
          "output_type": "execute_result",
          "data": {
            "text/html": [
              "<div>\n",
              "<style scoped>\n",
              "    .dataframe tbody tr th:only-of-type {\n",
              "        vertical-align: middle;\n",
              "    }\n",
              "\n",
              "    .dataframe tbody tr th {\n",
              "        vertical-align: top;\n",
              "    }\n",
              "\n",
              "    .dataframe thead th {\n",
              "        text-align: right;\n",
              "    }\n",
              "</style>\n",
              "<table border=\"1\" class=\"dataframe\">\n",
              "  <thead>\n",
              "    <tr style=\"text-align: right;\">\n",
              "      <th></th>\n",
              "      <th>uid</th>\n",
              "      <th>event</th>\n",
              "      <th>time</th>\n",
              "      <th>gender</th>\n",
              "      <th>age</th>\n",
              "      <th>register_date</th>\n",
              "      <th>income</th>\n",
              "      <th>offer_id</th>\n",
              "      <th>offer_reward</th>\n",
              "      <th>channels</th>\n",
              "      <th>difficulty</th>\n",
              "      <th>duration</th>\n",
              "      <th>offer_type</th>\n",
              "      <th>offer_time</th>\n",
              "      <th>transaction_amount</th>\n",
              "      <th>redeem_time</th>\n",
              "      <th>redeemed</th>\n",
              "    </tr>\n",
              "  </thead>\n",
              "  <tbody>\n",
              "    <tr>\n",
              "      <th>4</th>\n",
              "      <td>005500a7188546ff8a767329a2f7c76a</td>\n",
              "      <td>offer received</td>\n",
              "      <td>0</td>\n",
              "      <td>M</td>\n",
              "      <td>56</td>\n",
              "      <td>20171209</td>\n",
              "      <td>47000.0</td>\n",
              "      <td>ae264e3637204a6fb9bb56bc8210ddfd</td>\n",
              "      <td>10.0</td>\n",
              "      <td>['email', 'mobile', 'social']</td>\n",
              "      <td>10.0</td>\n",
              "      <td>168.0</td>\n",
              "      <td>bogo</td>\n",
              "      <td>0.0</td>\n",
              "      <td>NaN</td>\n",
              "      <td>NaN</td>\n",
              "      <td>0</td>\n",
              "    </tr>\n",
              "    <tr>\n",
              "      <th>5</th>\n",
              "      <td>0056df74b63b4298809f0b375a304cf4</td>\n",
              "      <td>offer received</td>\n",
              "      <td>0</td>\n",
              "      <td>M</td>\n",
              "      <td>54</td>\n",
              "      <td>20160821</td>\n",
              "      <td>91000.0</td>\n",
              "      <td>9b98b8c7a33c4b65b9aebfe6a799e6d9</td>\n",
              "      <td>5.0</td>\n",
              "      <td>['web', 'email', 'mobile']</td>\n",
              "      <td>5.0</td>\n",
              "      <td>168.0</td>\n",
              "      <td>bogo</td>\n",
              "      <td>0.0</td>\n",
              "      <td>27.86</td>\n",
              "      <td>132.0</td>\n",
              "      <td>1</td>\n",
              "    </tr>\n",
              "    <tr>\n",
              "      <th>6</th>\n",
              "      <td>00715b6e55c3431cb56ff7307eb19675</td>\n",
              "      <td>offer received</td>\n",
              "      <td>0</td>\n",
              "      <td>F</td>\n",
              "      <td>58</td>\n",
              "      <td>20171207</td>\n",
              "      <td>119000.0</td>\n",
              "      <td>ae264e3637204a6fb9bb56bc8210ddfd</td>\n",
              "      <td>10.0</td>\n",
              "      <td>['email', 'mobile', 'social']</td>\n",
              "      <td>10.0</td>\n",
              "      <td>168.0</td>\n",
              "      <td>bogo</td>\n",
              "      <td>0.0</td>\n",
              "      <td>27.26</td>\n",
              "      <td>12.0</td>\n",
              "      <td>1</td>\n",
              "    </tr>\n",
              "    <tr>\n",
              "      <th>9</th>\n",
              "      <td>00857b24b13f4fe0ad17b605f00357f5</td>\n",
              "      <td>offer received</td>\n",
              "      <td>0</td>\n",
              "      <td>M</td>\n",
              "      <td>71</td>\n",
              "      <td>20171023</td>\n",
              "      <td>41000.0</td>\n",
              "      <td>4d5c57ea9a6940dd891ad53e9dbe8da0</td>\n",
              "      <td>10.0</td>\n",
              "      <td>['web', 'email', 'mobile', 'social']</td>\n",
              "      <td>10.0</td>\n",
              "      <td>120.0</td>\n",
              "      <td>bogo</td>\n",
              "      <td>0.0</td>\n",
              "      <td>NaN</td>\n",
              "      <td>NaN</td>\n",
              "      <td>0</td>\n",
              "    </tr>\n",
              "    <tr>\n",
              "      <th>10</th>\n",
              "      <td>008d7088107b468893889da0ede0df5c</td>\n",
              "      <td>offer received</td>\n",
              "      <td>0</td>\n",
              "      <td>M</td>\n",
              "      <td>24</td>\n",
              "      <td>20170910</td>\n",
              "      <td>42000.0</td>\n",
              "      <td>f19421c1d4aa40978ebb69ca19b0e20d</td>\n",
              "      <td>5.0</td>\n",
              "      <td>['web', 'email', 'mobile', 'social']</td>\n",
              "      <td>5.0</td>\n",
              "      <td>120.0</td>\n",
              "      <td>bogo</td>\n",
              "      <td>0.0</td>\n",
              "      <td>NaN</td>\n",
              "      <td>NaN</td>\n",
              "      <td>0</td>\n",
              "    </tr>\n",
              "  </tbody>\n",
              "</table>\n",
              "</div>"
            ],
            "text/plain": [
              "                                 uid           event  ...  redeem_time redeemed\n",
              "4   005500a7188546ff8a767329a2f7c76a  offer received  ...          NaN        0\n",
              "5   0056df74b63b4298809f0b375a304cf4  offer received  ...        132.0        1\n",
              "6   00715b6e55c3431cb56ff7307eb19675  offer received  ...         12.0        1\n",
              "9   00857b24b13f4fe0ad17b605f00357f5  offer received  ...          NaN        0\n",
              "10  008d7088107b468893889da0ede0df5c  offer received  ...          NaN        0\n",
              "\n",
              "[5 rows x 17 columns]"
            ]
          },
          "metadata": {},
          "execution_count": 40
        }
      ]
    },
    {
      "cell_type": "code",
      "metadata": {
        "id": "WpAY07u7Kbez",
        "colab": {
          "base_uri": "https://localhost:8080/"
        },
        "outputId": "b13e18a8-080d-4deb-e640-2cee189e37fe"
      },
      "source": [
        "# use stats.ttest_ind to test whether the 2 types of offers yield different redemption rates\n",
        "\n",
        "stats.ttest_ind(bogo[\"redeemed\"],disc[\"redeemed\"])\n"
      ],
      "execution_count": 65,
      "outputs": [
        {
          "output_type": "execute_result",
          "data": {
            "text/plain": [
              "Ttest_indResult(statistic=-17.30160421286854, pvalue=6.611390792545181e-67)"
            ]
          },
          "metadata": {},
          "execution_count": 65
        }
      ]
    },
    {
      "cell_type": "code",
      "metadata": {
        "id": "vdcPjmahLwPn",
        "colab": {
          "base_uri": "https://localhost:8080/"
        },
        "outputId": "f8213c9c-5132-4d82-8a55-a64610ad1ba8"
      },
      "source": [
        "# Select the income column for those who redeemed the BOGO offer, call this the variable bogo_income\n",
        "# note you need to use 3 condtitions for the row selection: one for redeemed, one for bogo offer, and one for income is not missing\n",
        "# FYI: dataframe.somecolumn.notnull() is the Boolean evaluation for whether the somecolumn is not missing data\n",
        "bogo_income=bogo[\"income\"].loc[bogo[\"redeemed\"]==1]\n",
        "bogo_income=bogo_income.dropna()\n",
        "bogo_income\n"
      ],
      "execution_count": 88,
      "outputs": [
        {
          "output_type": "execute_result",
          "data": {
            "text/plain": [
              "5         91000.0\n",
              "6        119000.0\n",
              "11        81000.0\n",
              "23        80000.0\n",
              "24       102000.0\n",
              "           ...   \n",
              "76263     92000.0\n",
              "76268     77000.0\n",
              "76271     93000.0\n",
              "76273     73000.0\n",
              "76275     34000.0\n",
              "Name: income, Length: 15933, dtype: float64"
            ]
          },
          "metadata": {},
          "execution_count": 88
        }
      ]
    },
    {
      "cell_type": "code",
      "metadata": {
        "id": "rB5YJk-NA2ae"
      },
      "source": [
        ""
      ],
      "execution_count": null,
      "outputs": []
    },
    {
      "cell_type": "code",
      "metadata": {
        "id": "9giiAZ1P6El-",
        "colab": {
          "base_uri": "https://localhost:8080/"
        },
        "outputId": "9424322b-b9ea-4ade-ba2e-f96f18592245"
      },
      "source": [
        "# Select the income column for those who redeemed the discount offer, call this the variable disc_income\n",
        "# note you need to use 3 condtitions for the row selection: one for redeemed, one for discount offer,  and one for income is not missing\n",
        "# FYI: dataframe.somecolumn.notnull() is the Boolean evaluation for whether the somecolumn is not missing data\n",
        "disc_income=disc[\"income\"].loc[disc[\"redeemed\"]==1]\n",
        "disc_income=disc_income.dropna()\n",
        "disc_income\n",
        "\n"
      ],
      "execution_count": 87,
      "outputs": [
        {
          "output_type": "execute_result",
          "data": {
            "text/plain": [
              "1         90000.0\n",
              "8         61000.0\n",
              "13        66000.0\n",
              "17       102000.0\n",
              "21        72000.0\n",
              "           ...   \n",
              "76256     53000.0\n",
              "76259     86000.0\n",
              "76264     32000.0\n",
              "76266     47000.0\n",
              "76276     62000.0\n",
              "Name: income, Length: 17710, dtype: float64"
            ]
          },
          "metadata": {},
          "execution_count": 87
        }
      ]
    },
    {
      "cell_type": "code",
      "metadata": {
        "id": "vt9kRYVh7J2N",
        "colab": {
          "base_uri": "https://localhost:8080/"
        },
        "outputId": "2e007794-1e22-4367-b4df-2c98dcaa8138"
      },
      "source": [
        "# What is the average income for bogo redeemers (bogo_income.mean())?\n",
        "bogo_income.mean()\n"
      ],
      "execution_count": 53,
      "outputs": [
        {
          "output_type": "execute_result",
          "data": {
            "text/plain": [
              "70114.8559593297"
            ]
          },
          "metadata": {},
          "execution_count": 53
        }
      ]
    },
    {
      "cell_type": "code",
      "metadata": {
        "id": "GvoIFMFr7Ow1",
        "colab": {
          "base_uri": "https://localhost:8080/"
        },
        "outputId": "f3baac97-e431-4e1f-d1f7-085984f3f712"
      },
      "source": [
        "# What is the average income for discount redeemers?\n",
        "disc_income.mean()\n"
      ],
      "execution_count": 54,
      "outputs": [
        {
          "output_type": "execute_result",
          "data": {
            "text/plain": [
              "68617.39130434782"
            ]
          },
          "metadata": {},
          "execution_count": 54
        }
      ]
    },
    {
      "cell_type": "code",
      "metadata": {
        "id": "zV-OOhTT6RY8",
        "colab": {
          "base_uri": "https://localhost:8080/"
        },
        "outputId": "fba4a430-3352-49ac-ca2a-3a767f24b49c"
      },
      "source": [
        "# use stats.ttest_ind to test whether the average income of the redeemers of the 2 offer types are different\n",
        "stats.ttest_ind(bogo_income, disc_income)\n"
      ],
      "execution_count": 89,
      "outputs": [
        {
          "output_type": "execute_result",
          "data": {
            "text/plain": [
              "Ttest_indResult(statistic=6.343377852366808, pvalue=2.2763463492984577e-10)"
            ]
          },
          "metadata": {},
          "execution_count": 89
        }
      ]
    },
    {
      "cell_type": "markdown",
      "metadata": {
        "id": "bhAXZ0kO6a5B"
      },
      "source": [
        "**Edit this cell**\n",
        "1. (Write a sentence to describe the relative redemption rates of the 2 offer types based on the result of the t-test).\n",
        "**Based on the t-test we reject the null hypothesis and the relative redemption rates are not statistically significant**\n",
        "1. (Write a sentence to describe the relative incomes of the redeemers of the 2 offer types based on the result of the t-test).\n",
        "**Based on the t-test we reject the null hypothesis and the income rates are not statistically significant**"
      ]
    }
  ]
}