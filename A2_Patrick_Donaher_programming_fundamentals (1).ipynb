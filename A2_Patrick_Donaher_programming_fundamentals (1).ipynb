{
  "nbformat": 4,
  "nbformat_minor": 0,
  "metadata": {
    "colab": {
      "name": "A2 Patrick Donaher - programming fundamentals.ipynb",
      "provenance": [],
      "collapsed_sections": []
    },
    "kernelspec": {
      "name": "python3",
      "display_name": "Python 3"
    }
  },
  "cells": [
    {
      "cell_type": "markdown",
      "metadata": {
        "id": "USgNaQC8fB1q"
      },
      "source": [
        "# Instructions\n",
        "\n",
        "**Rationale.** The fundamentals of programming (data types, conditional statements, loops, functions) are necessary for you to develop a foundation on which to build data analytics skills. This assignment consists of 2 parts. In the first part, correct the existing code to successfully accomplish the stated task. In the second part, you will be asked to write your own code.\n",
        "\n",
        "Feel free to add additional cells if/when necessary. Comment your solutions to explain your code to communicate your reasoning. This may help you receive partial credit."
      ]
    },
    {
      "cell_type": "markdown",
      "metadata": {
        "id": "l5vgtMP0fzdZ"
      },
      "source": [
        "# Part 1 - Fix the code. \n",
        "\n",
        "Note that there may be multiple mistakes in the code."
      ]
    },
    {
      "cell_type": "markdown",
      "metadata": {
        "id": "apqz0JS5gKmI"
      },
      "source": [
        "1. (3 points) Loop through customer names and select only the ones whose **first name begins with \"A\"**"
      ]
    },
    {
      "cell_type": "code",
      "metadata": {
        "id": "OQzktOjDgPC8",
        "colab": {
          "base_uri": "https://localhost:8080/"
        },
        "outputId": "87828248-3581-41a2-f7f9-f9193fa036dd"
      },
      "source": [
        "customers = [('Adam', 'Smith'),('Mary', 'Samsonite'),('Pancho', 'Sanchez'),('Lily', 'Wang'),('Curtis', 'Jackson'),('Anne', 'Shirley'),('Alex', 'Hamilton'),('Bill', 'Shakespeare'),('Steve', 'Sondeheim')]\n",
        "# use a list comprehension to select the customer name tuples for which \n",
        "# the 1st item (first name) begins with 'A'\n",
        "acustomers = [f for f in customers if f[0][0]=='A'] \n",
        "print(acustomers)"
      ],
      "execution_count": 1,
      "outputs": [
        {
          "output_type": "stream",
          "name": "stdout",
          "text": [
            "[('Adam', 'Smith'), ('Anne', 'Shirley'), ('Alex', 'Hamilton')]\n"
          ]
        }
      ]
    },
    {
      "cell_type": "markdown",
      "metadata": {
        "id": "akJIzDg-hWCQ"
      },
      "source": [
        "2. (3 points) Fix the function below that computes the break even price given a product's marginal costs (MC), fixed costs to set up a factory line (FC), and some quantity produced, (Q). Run the function on a series of production quantities given an MC and FC to compute the corresponding break even prices. \n",
        "\n",
        "Note, break even means the revenue = total costs, i.e. $P\\times Q = FC+Q*MC$. One can solve htis equation for $P$ to get the break even price, $P = \\frac{FC}{Q}+MC$.\n"
      ]
    },
    {
      "cell_type": "code",
      "metadata": {
        "id": "BhsAUHF3ile9"
      },
      "source": [
        "def breakevenprice(FC, MC, Q): # fix this line\n",
        "    return (FC/Q + MC) # fix this line"
      ],
      "execution_count": 2,
      "outputs": []
    },
    {
      "cell_type": "code",
      "metadata": {
        "id": "DRedJYf6mwqV",
        "colab": {
          "base_uri": "https://localhost:8080/",
          "height": 131
        },
        "outputId": "10085704-25cc-4d14-b7ab-a567d166bb2d"
      },
      "source": [
        "# Don't change this part\n",
        "Quantities = [500,1000,1500,2000,2500,3000]\n",
        "FC = 20000\n",
        "MC = 20\n",
        "\n",
        "# fix the errors here:\n",
        "# make sure the list of break even prices is printed JUST ONCE\n",
        "BEPrices = list()\n",
        "for Q in Quantities # loop through Qunatities (error here)\n",
        "    P = breakevenprice(FC MC Q) # compute break even price (error here)\n",
        "    BEPrices.append(P) = BEPrices # append break even price to the list BEPrices (error here)\n",
        "    print(BEPrices) # Print out all the break even prices (error here)"
      ],
      "execution_count": null,
      "outputs": [
        {
          "output_type": "error",
          "ename": "SyntaxError",
          "evalue": "ignored",
          "traceback": [
            "\u001b[0;36m  File \u001b[0;32m\"<ipython-input-4-d3b45d262c87>\"\u001b[0;36m, line \u001b[0;32m9\u001b[0m\n\u001b[0;31m    for Q in Quantities # loop through Qunatities (error here)\u001b[0m\n\u001b[0m                                                              ^\u001b[0m\n\u001b[0;31mSyntaxError\u001b[0m\u001b[0;31m:\u001b[0m invalid syntax\n"
          ]
        }
      ]
    },
    {
      "cell_type": "markdown",
      "metadata": {
        "id": "F5KPe1rgnQ9E"
      },
      "source": [
        "# Part 2 (4 points) - Write your own code to solve the problem\n",
        "\n",
        "Suppose you have a list of leads that need to be qualified. Each lead is composed of the following things:\n",
        "\n",
        "1. ID (integer)\n",
        "1. Income (Integer)\n",
        "1. Debt (Integer)\n",
        "1. Married (1 for married, 0 for not)\n",
        "\n",
        "Your company has 2 different offers depending on the qualifications of the individual, offer A and offer B.\n",
        "\n",
        "1. Offer A qualification: \n",
        "    1. Income is **at least** double their total debt. \n",
        "    1. Marital status does not matter.\n",
        "1. Offer B qualifications: \n",
        "    1. Income is less than twice their total debt \n",
        "    1. but (income) greater than or equal to half their total debt. \n",
        "    1. Must be married.\n",
        "1. Otherwise, no offer is to be made. \n",
        "\n",
        "Write a function called `offer` that (**2 points**)\n",
        "1. takes as input: one record of a lead\n",
        "1. returns \"A\", \"B\", or \"None\" based on the rules above. \n",
        "\n",
        "**Test this function on a list of leads provided below.** (**2 points**)\n",
        "\n",
        "Each lead is a tuple of (ID, income, debt, married), i.e. (1, 25000, 12000, 1) is id 1, 25k income, 12k debt, and married."
      ]
    },
    {
      "cell_type": "code",
      "metadata": {
        "id": "6Ygmlk7psA0B"
      },
      "source": [
        "# Write your function here\n",
        "# Hint: your function should have the following STRUCTURE\n",
        "# specifics will need to be changed\n",
        "# def offer(record):\n",
        "    # if condition1: # for offer A\n",
        "    #     do something\n",
        "    # elif condition2: # for offer B\n",
        "    #     do something\n",
        "    # else: # no offer to be made\n",
        "    #     do something else\n",
        "\n",
        "def offer(record: tuple):\n",
        "  if (record[2]<=(record[1]*2)):\n",
        "    return \"A\"\n",
        "  elif (record[2]*2>record[1] and\n",
        "        record[1]>=(record[2]/2) and\n",
        "        record[3]==True):\n",
        "    return \"B\"\n",
        "  else:\n",
        "    return \"none\"        \n",
        "          \n",
        "\n",
        "\n",
        "\n",
        "        "
      ],
      "execution_count": 6,
      "outputs": []
    },
    {
      "cell_type": "code",
      "metadata": {
        "id": "vuCLzRyubO1V",
        "colab": {
          "base_uri": "https://localhost:8080/",
          "height": 35
        },
        "outputId": "7e869018-d2c3-48dc-feb1-d43c35465ed1"
      },
      "source": [
        "# Test your function on a single record to make sure it works\n",
        "r = (1, 25000,12000,1)\n",
        "# does your function work on r? i.e. does offer(r) return the expected offer?\n",
        "# Try changing values of r to see if it gives the expected offer each time\n",
        "offer(r) \n",
        "\n"
      ],
      "execution_count": 7,
      "outputs": [
        {
          "output_type": "execute_result",
          "data": {
            "application/vnd.google.colaboratory.intrinsic+json": {
              "type": "string"
            },
            "text/plain": [
              "'A'"
            ]
          },
          "metadata": {},
          "execution_count": 7
        }
      ]
    },
    {
      "cell_type": "code",
      "metadata": {
        "id": "n9ZWfK8IndYl"
      },
      "source": [
        "# Write a loop to execute the function offer on each of the records \n",
        "# in the list leads.\n",
        "leads = [(1, 25000,12000,1),(2, 50000,25000,0),(3, 125000,200000,1),(4, 25000,0,0),(5, 30000,80000,1),(5, 50000,80000,0)]\n",
        "\n",
        "# Write your loop here (you can also use a list comprehension instead of loop)\n",
        "# loop through each lead in \"leads\" and execute the offer function on that lead\n",
        "\n",
        "for record in leads:\n",
        "  offer(record)\n",
        "\n",
        "\n"
      ],
      "execution_count": 11,
      "outputs": []
    }
  ]
}